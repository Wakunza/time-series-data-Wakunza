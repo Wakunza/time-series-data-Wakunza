{
 "cells": [
  {
   "attachments": {},
   "cell_type": "markdown",
   "metadata": {
    "deletable": false,
    "editable": false,
    "hideCode": false,
    "hidePrompt": false,
    "nbgrader": {
     "cell_type": "markdown",
     "checksum": "f12af47cb022924020e918e3f6d16b57",
     "grade": false,
     "grade_id": "instr-headline",
     "locked": true,
     "schema_version": 3,
     "solution": false
    }
   },
   "source": [
    "# In March of 2019 there were floods in South Dakota, USA\n",
    "![](https://theintercept.imgix.net/wp-uploads/sites/1/2019/04/h_15196312-Pipeline-Flooding-1554474495-e1554474625282.jpg?auto=compress%2Cformat&q=90&fit=crop&w=1440&h=720)\n",
    "\n",
    "> Image source: <a src=https://theintercept.com/2019/04/05/keystone-xl-pipeline-pine-ridge-floods/> The Intercept April 5, 2019</a>"
   ]
  },
  {
   "attachments": {},
   "cell_type": "markdown",
   "metadata": {
    "deletable": false,
    "editable": false,
    "nbgrader": {
     "cell_type": "markdown",
     "checksum": "fa8d05bc217a47d3aa3bde245d83e01b",
     "grade": false,
     "grade_id": "instr-intro",
     "locked": true,
     "schema_version": 3,
     "solution": false,
     "task": false
    }
   },
   "source": [
    "In March 2019, large parts of South Dakota were flooded for weeks. What happened to cause this flooding? What impacts did the flooding have? Before we look at data about the flooding, we need to check out what other sources are saying about it.\n",
    "\n",
    "&#128214; Here are some resources from different sources to get you started:\n",
    "  * [The National Weather Service](https://www.weather.gov/unr/2019-05-26_31) \n",
    "  * [South Dakota Public Radio](https://listen.sdpb.org/news/2019-10-17cheyenne-river-tribe-says-oahe-dam-has-caused-problems-for-decades)\n",
    "  * [The Intercept](https://theintercept.com/2019/04/05/keystone-xl-pipeline-pine-ridge-floods/)\n",
    "\n",
    "&#128172; If you or someone you know have experience with this site, or \n",
    "were there during the floods, we also invite you to write about that."
   ]
  },
  {
   "attachments": {},
   "cell_type": "markdown",
   "metadata": {
    "deletable": false,
    "editable": false,
    "nbgrader": {
     "cell_type": "markdown",
     "checksum": "4d2bd1c4945146a088da15dddc1bcc6f",
     "grade": false,
     "grade_id": "task-site",
     "locked": true,
     "points": 7,
     "schema_version": 3,
     "solution": false,
     "task": true
    }
   },
   "source": [
    "\n",
    "## The Cheyenne River near Wasta, SD was one of the locations affected by the flooding\n",
    "\n",
    "To start, you'll be focusing on the Cheyenne River, which flows into \n",
    "Lake Oahu. Then, you'll pick your own site that was affected by a flood.\n",
    "\n",
    "### Site Description\n",
    "\n",
    "&#9998; In the cell below, describe the Cheyenne River area in a few sentences. \n",
    "You can include:\n",
    "  * Information about the **climatology** of the area, or typical \n",
    "  precipitation and temperature at different months of the year\n",
    "  * The **runoff ratio** (average annual runoff divided by average \n",
    "  annual precipitation)\n",
    "  * Which **wildlife and ecosystems** exist in the area\n",
    "  * What **communities and infrastructure** are in the area\n",
    "\n"
   ]
  },
  {
   "attachments": {},
   "cell_type": "markdown",
   "metadata": {},
   "source": [
    "### Climatology\n",
    "* Semi-arid continental climate, hot summers and cold winters with temp variations throughout the year.\n",
    "* June, July, Aug: Avg highs upper 80s - lower 90s F (30-34 c) Heatwaves suprass 100 F (38 c)\n",
    "* Decemeber, Jan, Feb: mid 20s to mid 30s (-4 - 1 c) Cold snaps bring sub zero temperatures (-18 c or lower)\n",
    "* Precipitation in the Cheyenne River area is relatively low, with an annual average of around 15-20 inches (380-510 mm)\n",
    "\n",
    "### Runoff Ratio\n",
    "* Average annual runoff.    ???\n",
    "* Average annual precip.\t17.06 inch\n",
    "* \n",
    "\n",
    "### Wildlife and Ecosystems\n",
    "* Grasslands: (mixed and tallgrass prarie) supporting plant species such as: Buffalo grass, grama grasses, and wildflowers, providing habitat for many animal species such as Bison, pronghorn antelope, mule and white-tailed deer, coyotes, prairie dogs, burrowing owls, numerous grassland birds (western meadowlark, horned lark, dickcissel, various sparrows).\n",
    "* Wetlands: Area has wetlands and shallowponds, providing habitat for waterfowl (ducks and geese) and marsh birds like herons, egrets, and rails.\n",
    "* Riparian Zones: run along the tributaries and the river. Vegetation here has adapated to the water-rich environment and provide habitat for various birds, small mammals, and amphibians such as waterfowl, herons and egrets, kingfishers, beavers, muskrats, frogs (bullforgs, green frogs, chrous frogs, leopard frog), raccoons, skunks, foxes, otters, fish (trout, catfish, walleye, various minnows). Plant species that are supported by these riparian zones include willows and cottonwoods.\n",
    "\n",
    "### Communities and Infrastrcture\n",
    "* Towns such as Eagle Butte, Mobridge, Bridge Cross (connects eastern and western portions of SD)\n",
    "* Infrastructure for reacreation of the Cheyenne river include campgrounds, boat ramps, and hiking trails.\n",
    "* Oahe Dam (Missouri River) forms Lake Oahe"
   ]
  },
  {
   "attachments": {},
   "cell_type": "markdown",
   "metadata": {
    "deletable": false,
    "editable": false,
    "nbgrader": {
     "cell_type": "markdown",
     "checksum": "f162bbab15453be957803b2887a9ebdf",
     "grade": false,
     "grade_id": "instr-set-up",
     "locked": true,
     "schema_version": 3,
     "solution": false,
     "task": false
    }
   },
   "source": [
    "### Interactive Site Map\n",
    "\n",
    "#### Get set up to use Python\n",
    "\n",
    "Use the cell below to add necessary **package imports** to this notebook. It's best to import everything in your very first code cell because it helps folks who are reading your code to figure out where everything comes from (mostly right now this is **you** in the future). It's *very* frustrating to try to figure out what packages need to be installed to get some code to run.\n",
    "\n",
    "&#128214; Our friend [the PEP-8 style guide has some things to say about imports](https://peps.python.org/pep-0008/#imports). In particular - **standard library packages** should be listed at the top. These are packages that you don't need to install because they come with Python. You can check if a package is part of the standard library by searching the [Python Standard Library documentation page](https://docs.python.org/3/library/). \n",
    "\n",
    "&#128187; Your task:\n",
    "  * **Uncomment** all the import lines below. HINT: Use the `CMD`-`/` shortcut to uncomment many lines at once.\n",
    "  * Add the **library for working with DataFrames in Python** to the imports\n",
    "  * Separate the **standard library package(s)** at the top\n",
    "  * Run and test your import cell to make sure everything will work"
   ]
  },
  {
   "cell_type": "code",
   "execution_count": 1,
   "metadata": {
    "deletable": false,
    "nbgrader": {
     "cell_type": "code",
     "checksum": "18cfa35d60929e03f7e1c1d3026e1a9b",
     "grade": false,
     "grade_id": "student-imports-answer",
     "locked": false,
     "schema_version": 3,
     "solution": true,
     "task": false
    }
   },
   "outputs": [],
   "source": [
    "# standard library packages below\n",
    "import os\n",
    "import pathlib\n",
    "import subprocess\n",
    "from io import BytesIO\n",
    "\n",
    "import folium\n",
    "import matplotlib.dates as dates\n",
    "import matplotlib.pyplot as plt\n",
    "import pandas as pd\n",
    "import requests\n",
    "\n"
   ]
  },
  {
   "cell_type": "code",
   "execution_count": 2,
   "metadata": {
    "deletable": false,
    "editable": false,
    "hideCode": false,
    "hidePrompt": false,
    "nbgrader": {
     "cell_type": "code",
     "checksum": "04860dcce448a21a2fc9d14f31042d15",
     "grade": true,
     "grade_id": "student-imports-tests",
     "locked": true,
     "points": 5,
     "schema_version": 3,
     "solution": false,
     "task": false
    }
   },
   "outputs": [
    {
     "name": "stdout",
     "output_type": "stream",
     "text": [
      "✅ Score! Pandas has been imported as a pd!\n",
      "0\n",
      "\n",
      "\n",
      " ➡ You received 5 out of 5 points.\n"
     ]
    },
    {
     "data": {
      "text/plain": [
       "5"
      ]
     },
     "execution_count": 2,
     "metadata": {},
     "output_type": "execute_result"
    }
   ],
   "source": [
    "# Test package imports - DO NOT MODIFY THIS CELL!\n",
    "import_answer_points = 3\n",
    "\n",
    "# Check that pandas has been imported properly\n",
    "try:\n",
    "    na_val = pd.NA\n",
    "    print(\"\\u2705 Score! Pandas has been imported as a pd!\")\n",
    "    import_answer_points += 2\n",
    "except NameError:\n",
    "    print(\n",
    "        \"\\u274C Pandas has not been imported as a pd, please make \"\n",
    "        \"sure to import it properly.\"\n",
    "    )\n",
    "\n",
    "# Subtract one point for any PEP-8 errors\n",
    "tmp_path = \"tmp.py\"\n",
    "with open(tmp_path, \"w\") as tmp_file:\n",
    "    tmp_file.write(In[-2])\n",
    "ignore_flake8 = 'W292,F401,E302'\n",
    "flake8_out = subprocess.run(\n",
    "    ['flake8', \n",
    "     '--ignore', ignore_flake8, \n",
    "     '--import-order-style', 'edited',\n",
    "     '--count', \n",
    "     tmp_path],\n",
    "    stdout=subprocess.PIPE,\n",
    ").stdout.decode(\"ascii\")\n",
    "print(flake8_out)\n",
    "import_answer_points -= int(flake8_out.splitlines()[-1])\n",
    "\n",
    "print(\n",
    "    \"\\n \\u27A1 You received {} out of 5 points.\".format(import_answer_points)\n",
    ")\n",
    "\n",
    "import_answer_points"
   ]
  },
  {
   "attachments": {},
   "cell_type": "markdown",
   "metadata": {
    "deletable": false,
    "editable": false,
    "nbgrader": {
     "cell_type": "markdown",
     "checksum": "4eb914eee3c2bfee3187cbde72af5758",
     "grade": false,
     "grade_id": "task-map",
     "locked": true,
     "points": 10,
     "schema_version": 3,
     "solution": false,
     "task": true
    }
   },
   "source": [
    "### Site Map: The Cheyenne River near Wasta\n",
    "\n",
    "The code below will create an interactive map of the area using the **folium**\n",
    "library. But something is wrong - no one defined the latitude and longitude as\n",
    "**variables**.\n",
    "\n",
    "&#128187; Your task:\n",
    "  * Find the location of the Cheyenne River near Wasta **USGS stream gauge** using the [National Water Information System](https://waterdata.usgs.gov/nwis?). This is not the easiest thing to find if you aren't used to NWIS, so you can use the following instructions to get started:\n",
    "      * Go to the [National Water Information System Mapper](https://dashboard.waterdata.usgs.gov/app/nwd/en/)\n",
    "      * Type in `Wasta` in the `Find a Place` box\n",
    "      * Click on the Cheyenne River near Wasta site. It should open a new window.\n",
    "      * Click on `Site page` at the top\n",
    "      * Scroll to the bottom and open the `Location metadata` section.\n",
    "  * Define latitude and longitude variables to **match the variable names \n",
    "    used in the code**.\n",
    "  * Change the current label, \"Thingy\" to be descriptive of the site.\n",
    "  * Run and test your cell to make sure everything works.\n",
    "\n",
    "&#127798; EXTRA CHALLENGE: Customize your folium plot [using the folium documentation](https://python-visualization.github.io/folium/quickstart.html#Getting-Started). For example, you could:\n",
    "  * Change the base map images\n",
    "  * Change the initial zoom"
   ]
  },
  {
   "cell_type": "code",
   "execution_count": 3,
   "metadata": {
    "deletable": false,
    "nbgrader": {
     "cell_type": "code",
     "checksum": "a675b5d94d456541f785078a0459e4fd",
     "grade": false,
     "grade_id": "ans-map",
     "locked": false,
     "schema_version": 3,
     "solution": true,
     "task": false
    }
   },
   "outputs": [
    {
     "data": {
      "text/html": [
       "<div style=\"width:100%;\"><div style=\"position:relative;width:100%;height:0;padding-bottom:60%;\"><span style=\"color:#565656\">Make this Notebook Trusted to load map: File -> Trust Notebook</span><iframe srcdoc=\"&lt;!DOCTYPE html&gt;\n",
       "&lt;html&gt;\n",
       "&lt;head&gt;\n",
       "    \n",
       "    &lt;meta http-equiv=&quot;content-type&quot; content=&quot;text/html; charset=UTF-8&quot; /&gt;\n",
       "    \n",
       "        &lt;script&gt;\n",
       "            L_NO_TOUCH = false;\n",
       "            L_DISABLE_3D = false;\n",
       "        &lt;/script&gt;\n",
       "    \n",
       "    &lt;style&gt;html, body {width: 100%;height: 100%;margin: 0;padding: 0;}&lt;/style&gt;\n",
       "    &lt;style&gt;#map {position:absolute;top:0;bottom:0;right:0;left:0;}&lt;/style&gt;\n",
       "    &lt;script src=&quot;https://cdn.jsdelivr.net/npm/leaflet@1.9.3/dist/leaflet.js&quot;&gt;&lt;/script&gt;\n",
       "    &lt;script src=&quot;https://code.jquery.com/jquery-1.12.4.min.js&quot;&gt;&lt;/script&gt;\n",
       "    &lt;script src=&quot;https://cdn.jsdelivr.net/npm/bootstrap@5.2.2/dist/js/bootstrap.bundle.min.js&quot;&gt;&lt;/script&gt;\n",
       "    &lt;script src=&quot;https://cdnjs.cloudflare.com/ajax/libs/Leaflet.awesome-markers/2.0.2/leaflet.awesome-markers.js&quot;&gt;&lt;/script&gt;\n",
       "    &lt;link rel=&quot;stylesheet&quot; href=&quot;https://cdn.jsdelivr.net/npm/leaflet@1.9.3/dist/leaflet.css&quot;/&gt;\n",
       "    &lt;link rel=&quot;stylesheet&quot; href=&quot;https://cdn.jsdelivr.net/npm/bootstrap@5.2.2/dist/css/bootstrap.min.css&quot;/&gt;\n",
       "    &lt;link rel=&quot;stylesheet&quot; href=&quot;https://netdna.bootstrapcdn.com/bootstrap/3.0.0/css/bootstrap.min.css&quot;/&gt;\n",
       "    &lt;link rel=&quot;stylesheet&quot; href=&quot;https://cdn.jsdelivr.net/npm/@fortawesome/fontawesome-free@6.2.0/css/all.min.css&quot;/&gt;\n",
       "    &lt;link rel=&quot;stylesheet&quot; href=&quot;https://cdnjs.cloudflare.com/ajax/libs/Leaflet.awesome-markers/2.0.2/leaflet.awesome-markers.css&quot;/&gt;\n",
       "    &lt;link rel=&quot;stylesheet&quot; href=&quot;https://cdn.jsdelivr.net/gh/python-visualization/folium/folium/templates/leaflet.awesome.rotate.min.css&quot;/&gt;\n",
       "    \n",
       "            &lt;meta name=&quot;viewport&quot; content=&quot;width=device-width,\n",
       "                initial-scale=1.0, maximum-scale=1.0, user-scalable=no&quot; /&gt;\n",
       "            &lt;style&gt;\n",
       "                #map_fa1b1cc04bb158786ee4514a691fc800 {\n",
       "                    position: relative;\n",
       "                    width: 60.0%;\n",
       "                    height: 70.0%;\n",
       "                    left: 0.0%;\n",
       "                    top: 0.0%;\n",
       "                }\n",
       "                .leaflet-container { font-size: 1rem; }\n",
       "            &lt;/style&gt;\n",
       "        \n",
       "&lt;/head&gt;\n",
       "&lt;body&gt;\n",
       "    \n",
       "    \n",
       "            &lt;div class=&quot;folium-map&quot; id=&quot;map_fa1b1cc04bb158786ee4514a691fc800&quot; &gt;&lt;/div&gt;\n",
       "        \n",
       "&lt;/body&gt;\n",
       "&lt;script&gt;\n",
       "    \n",
       "    \n",
       "            var map_fa1b1cc04bb158786ee4514a691fc800 = L.map(\n",
       "                &quot;map_fa1b1cc04bb158786ee4514a691fc800&quot;,\n",
       "                {\n",
       "                    center: [44.08109849, -102.4012746],\n",
       "                    crs: L.CRS.EPSG3857,\n",
       "                    zoom: 12.5,\n",
       "                    zoomControl: true,\n",
       "                    preferCanvas: false,\n",
       "                    scrollWheelZoom: false,\n",
       "                }\n",
       "            );\n",
       "            L.control.scale().addTo(map_fa1b1cc04bb158786ee4514a691fc800);\n",
       "\n",
       "            \n",
       "\n",
       "        \n",
       "    \n",
       "            var tile_layer_612ab17f5cb5598486fd60a5613edee3 = L.tileLayer(\n",
       "                &quot;https://{s}.tile.openstreetmap.org/{z}/{x}/{y}.png&quot;,\n",
       "                {&quot;attribution&quot;: &quot;Data by \\u0026copy; \\u003ca target=\\&quot;_blank\\&quot; href=\\&quot;http://openstreetmap.org\\&quot;\\u003eOpenStreetMap\\u003c/a\\u003e, under \\u003ca target=\\&quot;_blank\\&quot; href=\\&quot;http://www.openstreetmap.org/copyright\\&quot;\\u003eODbL\\u003c/a\\u003e.&quot;, &quot;detectRetina&quot;: false, &quot;maxNativeZoom&quot;: 18, &quot;maxZoom&quot;: 18, &quot;minZoom&quot;: 0, &quot;noWrap&quot;: false, &quot;opacity&quot;: 1, &quot;subdomains&quot;: &quot;abc&quot;, &quot;tms&quot;: false}\n",
       "            ).addTo(map_fa1b1cc04bb158786ee4514a691fc800);\n",
       "        \n",
       "    \n",
       "            var circle_marker_8919d76591408a597da04256937a13d2 = L.circleMarker(\n",
       "                [44.08109849, -102.4012746],\n",
       "                {&quot;bubblingMouseEvents&quot;: true, &quot;color&quot;: &quot;teal&quot;, &quot;dashArray&quot;: null, &quot;dashOffset&quot;: null, &quot;fill&quot;: true, &quot;fillColor&quot;: &quot;teal&quot;, &quot;fillOpacity&quot;: 0.2, &quot;fillRule&quot;: &quot;evenodd&quot;, &quot;lineCap&quot;: &quot;round&quot;, &quot;lineJoin&quot;: &quot;round&quot;, &quot;opacity&quot;: 1.0, &quot;radius&quot;: 25, &quot;stroke&quot;: true, &quot;weight&quot;: 3}\n",
       "            ).addTo(map_fa1b1cc04bb158786ee4514a691fc800);\n",
       "        \n",
       "    \n",
       "        var popup_7d26d8c26fa43dde9dd4cb175b14aa4c = L.popup({&quot;maxWidth&quot;: &quot;100%&quot;});\n",
       "\n",
       "        \n",
       "            \n",
       "                var html_9fb8aa364f08f73fc043eda22a597db5 = $(`&lt;div id=&quot;html_9fb8aa364f08f73fc043eda22a597db5&quot; style=&quot;width: 100.0%; height: 100.0%;&quot;&gt;USGS Site near Wasta, ND&lt;/div&gt;`)[0];\n",
       "                popup_7d26d8c26fa43dde9dd4cb175b14aa4c.setContent(html_9fb8aa364f08f73fc043eda22a597db5);\n",
       "            \n",
       "        \n",
       "\n",
       "        circle_marker_8919d76591408a597da04256937a13d2.bindPopup(popup_7d26d8c26fa43dde9dd4cb175b14aa4c)\n",
       "        ;\n",
       "\n",
       "        \n",
       "    \n",
       "&lt;/script&gt;\n",
       "&lt;/html&gt;\" style=\"position:absolute;width:100%;height:100%;left:0;top:0;border:none !important;\" allowfullscreen webkitallowfullscreen mozallowfullscreen></iframe></div></div>"
      ],
      "text/plain": [
       "<folium.folium.Map at 0x7fc2d1331ea0>"
      ]
     },
     "execution_count": 3,
     "metadata": {},
     "output_type": "execute_result"
    }
   ],
   "source": [
    "start_coords=[44.08109849, -102.4012746]\n",
    "\n",
    "# Initialize map and tweak settings\n",
    "m = folium.Map(\n",
    "    # Location to display\n",
    "    location=start_coords,\n",
    "    # Turns off annoying zooming while trying to scroll to the next cell\n",
    "    scrollWheelZoom=False,\n",
    "    # changing the map style\n",
    "    # tiles=\"Stamen Terrain\",\n",
    "    # changing the zoom start\n",
    "    zoom_start=12.5,\n",
    "    # scaling the map\n",
    "    width='60%', height='70%',\n",
    "    # adding a km scale on bottom left of map\n",
    "    control_scale=True)\n",
    "\n",
    "# Put a pin marker at the stream gauge location\n",
    "#folium.Marker(start_coords, popup=\"Near Wasta USGS Site\").add_to(m)\n",
    "\n",
    "# adding a circle marker for location\n",
    "folium.CircleMarker(\n",
    "    radius=25,\n",
    "    location=start_coords,\n",
    "    popup=\"USGS Site near Wasta, ND\",\n",
    "    color=\"teal\",\n",
    "    fill=True,\n",
    ").add_to(m)\n",
    "\n",
    "# Display the map\n",
    "m"
   ]
  },
  {
   "attachments": {},
   "cell_type": "markdown",
   "metadata": {},
   "source": [
    "## Grand Forks Flood Data\n",
    "https://waterdata.usgs.gov/nwis/inventory?agency_code=USGS&site_no=05082500\n"
   ]
  },
  {
   "cell_type": "code",
   "execution_count": 33,
   "metadata": {},
   "outputs": [
    {
     "data": {
      "text/html": [
       "<div style=\"width:100%;\"><div style=\"position:relative;width:100%;height:0;padding-bottom:60%;\"><span style=\"color:#565656\">Make this Notebook Trusted to load map: File -> Trust Notebook</span><iframe srcdoc=\"&lt;!DOCTYPE html&gt;\n",
       "&lt;html&gt;\n",
       "&lt;head&gt;\n",
       "    \n",
       "    &lt;meta http-equiv=&quot;content-type&quot; content=&quot;text/html; charset=UTF-8&quot; /&gt;\n",
       "    \n",
       "        &lt;script&gt;\n",
       "            L_NO_TOUCH = false;\n",
       "            L_DISABLE_3D = false;\n",
       "        &lt;/script&gt;\n",
       "    \n",
       "    &lt;style&gt;html, body {width: 100%;height: 100%;margin: 0;padding: 0;}&lt;/style&gt;\n",
       "    &lt;style&gt;#map {position:absolute;top:0;bottom:0;right:0;left:0;}&lt;/style&gt;\n",
       "    &lt;script src=&quot;https://cdn.jsdelivr.net/npm/leaflet@1.9.3/dist/leaflet.js&quot;&gt;&lt;/script&gt;\n",
       "    &lt;script src=&quot;https://code.jquery.com/jquery-1.12.4.min.js&quot;&gt;&lt;/script&gt;\n",
       "    &lt;script src=&quot;https://cdn.jsdelivr.net/npm/bootstrap@5.2.2/dist/js/bootstrap.bundle.min.js&quot;&gt;&lt;/script&gt;\n",
       "    &lt;script src=&quot;https://cdnjs.cloudflare.com/ajax/libs/Leaflet.awesome-markers/2.0.2/leaflet.awesome-markers.js&quot;&gt;&lt;/script&gt;\n",
       "    &lt;link rel=&quot;stylesheet&quot; href=&quot;https://cdn.jsdelivr.net/npm/leaflet@1.9.3/dist/leaflet.css&quot;/&gt;\n",
       "    &lt;link rel=&quot;stylesheet&quot; href=&quot;https://cdn.jsdelivr.net/npm/bootstrap@5.2.2/dist/css/bootstrap.min.css&quot;/&gt;\n",
       "    &lt;link rel=&quot;stylesheet&quot; href=&quot;https://netdna.bootstrapcdn.com/bootstrap/3.0.0/css/bootstrap.min.css&quot;/&gt;\n",
       "    &lt;link rel=&quot;stylesheet&quot; href=&quot;https://cdn.jsdelivr.net/npm/@fortawesome/fontawesome-free@6.2.0/css/all.min.css&quot;/&gt;\n",
       "    &lt;link rel=&quot;stylesheet&quot; href=&quot;https://cdnjs.cloudflare.com/ajax/libs/Leaflet.awesome-markers/2.0.2/leaflet.awesome-markers.css&quot;/&gt;\n",
       "    &lt;link rel=&quot;stylesheet&quot; href=&quot;https://cdn.jsdelivr.net/gh/python-visualization/folium/folium/templates/leaflet.awesome.rotate.min.css&quot;/&gt;\n",
       "    \n",
       "            &lt;meta name=&quot;viewport&quot; content=&quot;width=device-width,\n",
       "                initial-scale=1.0, maximum-scale=1.0, user-scalable=no&quot; /&gt;\n",
       "            &lt;style&gt;\n",
       "                #map_452f3c517cb723371fab0d4f98de1f05 {\n",
       "                    position: relative;\n",
       "                    width: 60.0%;\n",
       "                    height: 70.0%;\n",
       "                    left: 0.0%;\n",
       "                    top: 0.0%;\n",
       "                }\n",
       "                .leaflet-container { font-size: 1rem; }\n",
       "            &lt;/style&gt;\n",
       "        \n",
       "&lt;/head&gt;\n",
       "&lt;body&gt;\n",
       "    \n",
       "    \n",
       "            &lt;div class=&quot;folium-map&quot; id=&quot;map_452f3c517cb723371fab0d4f98de1f05&quot; &gt;&lt;/div&gt;\n",
       "        \n",
       "&lt;/body&gt;\n",
       "&lt;script&gt;\n",
       "    \n",
       "    \n",
       "            var map_452f3c517cb723371fab0d4f98de1f05 = L.map(\n",
       "                &quot;map_452f3c517cb723371fab0d4f98de1f05&quot;,\n",
       "                {\n",
       "                    center: [47.9269234, -97.0292435],\n",
       "                    crs: L.CRS.EPSG3857,\n",
       "                    zoom: 12.5,\n",
       "                    zoomControl: true,\n",
       "                    preferCanvas: false,\n",
       "                    scrollWheelZoom: false,\n",
       "                }\n",
       "            );\n",
       "            L.control.scale().addTo(map_452f3c517cb723371fab0d4f98de1f05);\n",
       "\n",
       "            \n",
       "\n",
       "        \n",
       "    \n",
       "            var tile_layer_f514b1be9219134f4238f01cbd371a99 = L.tileLayer(\n",
       "                &quot;https://{s}.tile.openstreetmap.org/{z}/{x}/{y}.png&quot;,\n",
       "                {&quot;attribution&quot;: &quot;Data by \\u0026copy; \\u003ca target=\\&quot;_blank\\&quot; href=\\&quot;http://openstreetmap.org\\&quot;\\u003eOpenStreetMap\\u003c/a\\u003e, under \\u003ca target=\\&quot;_blank\\&quot; href=\\&quot;http://www.openstreetmap.org/copyright\\&quot;\\u003eODbL\\u003c/a\\u003e.&quot;, &quot;detectRetina&quot;: false, &quot;maxNativeZoom&quot;: 18, &quot;maxZoom&quot;: 18, &quot;minZoom&quot;: 0, &quot;noWrap&quot;: false, &quot;opacity&quot;: 1, &quot;subdomains&quot;: &quot;abc&quot;, &quot;tms&quot;: false}\n",
       "            ).addTo(map_452f3c517cb723371fab0d4f98de1f05);\n",
       "        \n",
       "    \n",
       "            var circle_marker_13dfe05e3e164cdb8cb7b0ab5140d26a = L.circleMarker(\n",
       "                [47.9269234, -97.0292435],\n",
       "                {&quot;bubblingMouseEvents&quot;: true, &quot;color&quot;: &quot;red&quot;, &quot;dashArray&quot;: null, &quot;dashOffset&quot;: null, &quot;fill&quot;: true, &quot;fillColor&quot;: &quot;red&quot;, &quot;fillOpacity&quot;: 0.2, &quot;fillRule&quot;: &quot;evenodd&quot;, &quot;lineCap&quot;: &quot;round&quot;, &quot;lineJoin&quot;: &quot;round&quot;, &quot;opacity&quot;: 1.0, &quot;radius&quot;: 25, &quot;stroke&quot;: true, &quot;weight&quot;: 3}\n",
       "            ).addTo(map_452f3c517cb723371fab0d4f98de1f05);\n",
       "        \n",
       "    \n",
       "        var popup_107b9f127ac90e630d5a39eec46e1adc = L.popup({&quot;maxWidth&quot;: &quot;100%&quot;});\n",
       "\n",
       "        \n",
       "            \n",
       "                var html_d4fb37aab8ebd0080655dab003bb41ad = $(`&lt;div id=&quot;html_d4fb37aab8ebd0080655dab003bb41ad&quot; style=&quot;width: 100.0%; height: 100.0%;&quot;&gt;Red River at Grand Forks, ND&lt;/div&gt;`)[0];\n",
       "                popup_107b9f127ac90e630d5a39eec46e1adc.setContent(html_d4fb37aab8ebd0080655dab003bb41ad);\n",
       "            \n",
       "        \n",
       "\n",
       "        circle_marker_13dfe05e3e164cdb8cb7b0ab5140d26a.bindPopup(popup_107b9f127ac90e630d5a39eec46e1adc)\n",
       "        ;\n",
       "\n",
       "        \n",
       "    \n",
       "&lt;/script&gt;\n",
       "&lt;/html&gt;\" style=\"position:absolute;width:100%;height:100%;left:0;top:0;border:none !important;\" allowfullscreen webkitallowfullscreen mozallowfullscreen></iframe></div></div>"
      ],
      "text/plain": [
       "<folium.folium.Map at 0x7fc27810c040>"
      ]
     },
     "execution_count": 33,
     "metadata": {},
     "output_type": "execute_result"
    }
   ],
   "source": [
    "start_coords=[47.9269234, -97.0292435]\n",
    "\n",
    "# Initialize map and tweak settings\n",
    "gf_map = folium.Map(\n",
    "    # Location to display\n",
    "    location=start_coords,\n",
    "    # Turns off annoying zooming while trying to scroll to the next cell\n",
    "    scrollWheelZoom=False,\n",
    "    # changing the map style\n",
    "    # tiles=\"Stamen Terrain\",\n",
    "    # changing the zoom start\n",
    "    zoom_start=12.5,\n",
    "    # scaling the map\n",
    "    width='60%', height='70%',\n",
    "    # adding a km scale on bottom left of map\n",
    "    control_scale=True)\n",
    "\n",
    "# Put a pin marker at the stream gauge location\n",
    "#folium.Marker(start_coords, popup=\"Near Wasta USGS Site\").add_to(m)\n",
    "\n",
    "# adding a circle marker for location\n",
    "folium.CircleMarker(\n",
    "    radius=25,\n",
    "    location=start_coords,\n",
    "    popup=\"Red River at Grand Forks, ND\",\n",
    "    color=\"red\",\n",
    "    fill=True,\n",
    ").add_to(gf_map)\n",
    "\n",
    "# Display the map\n",
    "gf_map"
   ]
  },
  {
   "attachments": {},
   "cell_type": "markdown",
   "metadata": {
    "deletable": false,
    "editable": false,
    "nbgrader": {
     "cell_type": "markdown",
     "checksum": "08e9042f6da954ce7c26c6016c227795",
     "grade": false,
     "grade_id": "instr-floods",
     "locked": true,
     "schema_version": 3,
     "solution": false,
     "task": false
    }
   },
   "source": [
    "## One way to express how big a flood is by estimating how often larger floods occur.\n",
    "\n",
    "For example, you might have heard news media talking about a \"100-year flood\". \n",
    "\n",
    "In this notebook, you will write Python code to download and work with a **time series** of streamflow data during the flooding on the Cheyenne River.\n",
    "\n",
    "> A **time series** of data is taken at the same location but collected regularly or semi-regularly over time. \n",
    "\n",
    "You will then consider how the values compared to previous years before the flood event by computing the flood's **return period**.\n",
    "\n",
    "> A **return period** is an estimate of how often you might expect to see a flood of at least a particular size. This does *NOT* mean an extreme flood \"has\" to occur within the return period, or that it couldn't occur more than once.\n",
    "\n",
    "&#128214; Here are some resources from your text book you can review to learn more:\n",
    "  * [Introduction to time-series data](https://www.earthdatascience.org/courses/use-data-open-source-python/use-time-series-data-in-python/)\n",
    "  * [Flood return period and probability](https://www.earthdatascience.org/courses/use-data-open-source-python/use-time-series-data-in-python/floods-return-period-and-probability/)\n",
    "\n",
    "&#9998; In the cell below, explain what data you will need to complete this analysis, including:\n",
    "  1. What type or types of data do you need?\n",
    "  2. How many years of data do you think you need to compute the return period of an extreme event like the 2019 Cheyenne River floods?"
   ]
  },
  {
   "attachments": {},
   "cell_type": "markdown",
   "metadata": {},
   "source": [
    "YOUR ANSWER HERE"
   ]
  },
  {
   "attachments": {},
   "cell_type": "markdown",
   "metadata": {
    "deletable": false,
    "editable": false,
    "nbgrader": {
     "cell_type": "markdown",
     "checksum": "13a0749b01486be67d82e42ab14e2b60",
     "grade": false,
     "grade_id": "task-url",
     "locked": true,
     "points": 5,
     "schema_version": 3,
     "solution": false,
     "task": true
    }
   },
   "source": [
    "### US streamflow data are available from the National Water Information Service (NWIS) \n",
    "\n",
    "&#128187; Practice downloading the data you need using the NWIS website. **You will not use your downloaded data in the analysis, but you must follow these steps to get the correct urls.** In the cell below, use the following instructions to get urls for downloading the USGS data:\n",
    "\n",
    "1. Go back to the Cheyenne River near Wasta station page.\n",
    "4. This time, click `Data` instead of `Site Page`\n",
    "4. Select `Daily Data` from the list of datasets.\n",
    "5. Select the entire available date range, and set your results to be as `Tab-separated`, and press `Go`.\n",
    "6. Copy the url that populates in your browser window and paste it below. You don't need to save the data - we will do that using Python.\n",
    "    "
   ]
  },
  {
   "attachments": {},
   "cell_type": "markdown",
   "metadata": {},
   "source": [
    "&#9998; USGS streamflow URL: https://waterdata.usgs.gov/nwis/dv?cb_00060=on&format=rdb&site_no=06423500&legacy=&referred_module=sw&period=&begin_date=1914-10-01&end_date=2023-05-31"
   ]
  },
  {
   "attachments": {},
   "cell_type": "markdown",
   "metadata": {},
   "source": [
    "Grand Forks Discharge USGS URL:"
   ]
  },
  {
   "attachments": {},
   "cell_type": "markdown",
   "metadata": {},
   "source": [
    "https://waterdata.usgs.gov/nwis/dv?cb_00060=on&format=rdb&site_no=05082500&legacy=&referred_module=sw&period=&begin_date=1995-01-01&end_date=2023-06-14"
   ]
  },
  {
   "attachments": {},
   "cell_type": "markdown",
   "metadata": {
    "deletable": false,
    "editable": false,
    "nbgrader": {
     "cell_type": "markdown",
     "checksum": "85aef85b9260339c6c6329541f4fcb8f",
     "grade": false,
     "grade_id": "task-api",
     "locked": true,
     "points": 4,
     "schema_version": 3,
     "solution": false,
     "task": true
    }
   },
   "source": [
    "#### Exploring the NWIS API\n",
    "\n",
    "One way to access data is through an **Application Programming Interface**, or **API**. The URL you've just found is an example of a simple, public API. All the parameters of your data search are visible in the URL. For example, to get data starting in 1950, we could change `begin_date=1914-10-01` to `begin_date=1950-01-01`)\n",
    "\n",
    " &#9998; In the cell below - what parameter would you change in the USGS url if you wanted to switch locations?\n"
   ]
  },
  {
   "attachments": {},
   "cell_type": "markdown",
   "metadata": {},
   "source": [
    "site_no="
   ]
  },
  {
   "attachments": {},
   "cell_type": "markdown",
   "metadata": {
    "deletable": false,
    "editable": false,
    "nbgrader": {
     "cell_type": "markdown",
     "checksum": "cf988eff04d79ba72e82650476bab754",
     "grade": false,
     "grade_id": "task-citation",
     "locked": true,
     "points": 12,
     "schema_version": 3,
     "solution": false,
     "task": true
    }
   },
   "source": [
    "#### Data description and citation\n",
    "\n",
    "&#9998; In the cell below, describe your data. Include the following information:\n",
    "  1. A 1-2 sentence description of the data\n",
    "  2. Data citation\n",
    "  3. What are the units?\n",
    "  4. What is the time interval for each data point?\n",
    "  5. Is there a \"no data\" value, or a value used to indicate when the sensor was broken or didn't detect anything? (These are also known as NA, N/A, NaN, nan, or nodata values)\n",
    "\n",
    "&#128214; The [NWIS data format page](https://waterdata.usgs.gov/nwis/?tab_delimited_format_info) might be helpful."
   ]
  },
  {
   "attachments": {},
   "cell_type": "markdown",
   "metadata": {},
   "source": [
    "1.) The data provides information about the agency collecting data or maintaining the site (agency_cd), USGS site-identification number (site_no), and the date (and time for real-time data) in ISO format (datetime). \n",
    "* The first two number sequesnce in each coloumn (nn_nnnnn and nn_nnnnn_cd) defines sensor (data descriptor) used to collect the data and the following five numbers defines the 'paramater_cd' which describes the type of data shown in the colomn.\n",
    "\n",
    "2.)\n",
    "\n",
    "3.) Discharge is expressed in cubic feet per second\n",
    "    Gage height is expressed in feet\n",
    "\n",
    "4.) 24hr?\n",
    "\n",
    "5.) no, just a tab space"
   ]
  },
  {
   "attachments": {},
   "cell_type": "markdown",
   "metadata": {
    "deletable": false,
    "editable": false,
    "hideCode": false,
    "hidePrompt": false,
    "nbgrader": {
     "cell_type": "markdown",
     "checksum": "78d2b95246caa72725ed4c8a7b1d7109",
     "grade": false,
     "grade_id": "set-working-directory-instructions",
     "locked": true,
     "schema_version": 3,
     "solution": false,
     "task": false
    }
   },
   "source": [
    "#### Download the data\n",
    "\n",
    "In the cell below complete the following task:\n",
    "\n",
    "1. Replace the empty string `''` in the code below with the USGS NWIS URL you found, saving it in the `nwis_url` variable.\n",
    "2. Download the data using the provided code.\n",
    "3. Save the result (or HTTP Response) to a **descriptive variable**, and call the variable at the end of the cell."
   ]
  },
  {
   "cell_type": "code",
   "execution_count": 5,
   "metadata": {
    "deletable": false,
    "hideCode": false,
    "hidePrompt": false,
    "nbgrader": {
     "cell_type": "code",
     "checksum": "89f19cb74c17578a2d9e7f325b69fe4c",
     "grade": false,
     "grade_id": "download-and-set-working-directory",
     "locked": false,
     "schema_version": 3,
     "solution": true,
     "task": false
    }
   },
   "outputs": [
    {
     "data": {
      "text/plain": [
       "<Response [200]>"
      ]
     },
     "execution_count": 5,
     "metadata": {},
     "output_type": "execute_result"
    }
   ],
   "source": [
    "# importing the data uinder nwis_url\n",
    "nwis_url = ('https://waterdata.usgs.gov/nwis/dv?cb_00060=on&format=rdb&'\n",
    "            'site_no=06423500&legacy=&referred_module=sw&period=&'\n",
    "            'begin_date=1914-10-01&end_date=2023-05-31')\n",
    "\n",
    "# Download data using a GET HTTP Request\n",
    "data = requests.get(nwis_url)\n",
    "data"
   ]
  },
  {
   "cell_type": "code",
   "execution_count": 6,
   "metadata": {
    "deletable": false,
    "editable": false,
    "nbgrader": {
     "cell_type": "code",
     "checksum": "967a5f95747eb0ce83c8f4355d432239",
     "grade": true,
     "grade_id": "cell-7dccd7491268de2d",
     "locked": true,
     "points": 0,
     "schema_version": 3,
     "solution": false,
     "task": false
    }
   },
   "outputs": [
    {
     "name": "stdout",
     "output_type": "stream",
     "text": [
      "✅ Great work! Your download succeeded\n",
      "➡ You earned 2 of 2 points for downloading data\n"
     ]
    }
   ],
   "source": [
    "ans_req = _\n",
    "req_pts = 0\n",
    "\n",
    "if ans_req.ok:\n",
    "    print('\\u2705 Great work! Your download succeeded')\n",
    "    req_pts +=2\n",
    "else:\n",
    "    print('\\u274C Hmm, looks like your url is not correct')\n",
    "\n",
    "print('\\u27A1 You earned {} of 2 points for downloading data'.format(req_pts))"
   ]
  },
  {
   "cell_type": "code",
   "execution_count": 7,
   "metadata": {},
   "outputs": [
    {
     "data": {
      "text/plain": [
       "<Response [200]>"
      ]
     },
     "execution_count": 7,
     "metadata": {},
     "output_type": "execute_result"
    }
   ],
   "source": [
    "# Grand Forks\n",
    "# importing the data uinder nwis_url\n",
    "gf_url = ('https://waterdata.usgs.gov/nwis/dv?cb_00060=on&'\n",
    "            'format=rdb&site_no=05082500&legacy=&'\n",
    "            'referred_module=sw&period=&'\n",
    "            'begin_date=1995-01-01&end_date=2023-06-14')\n",
    "\n",
    "# Download data using a GET HTTP Request\n",
    "gf_data = requests.get(gf_url)\n",
    "gf_data"
   ]
  },
  {
   "attachments": {},
   "cell_type": "markdown",
   "metadata": {
    "deletable": false,
    "editable": false,
    "nbgrader": {
     "cell_type": "markdown",
     "checksum": "5342cc4ad725bee71f5e03541780874c",
     "grade": false,
     "grade_id": "instr-look-at-data",
     "locked": true,
     "schema_version": 3,
     "solution": false,
     "task": false
    }
   },
   "source": [
    "#### You will need to take a look at the raw downloaded data to figure out what import parameters to use with the pandas read_csv() function\n",
    "\n",
    "&#128187; In the cell below, replace `response` with the name of the response variable that you defined above.\n",
    "\n",
    "The code below prints the first 10 lines of your download and numbers them. Does this look like streamflow data to you?"
   ]
  },
  {
   "cell_type": "code",
   "execution_count": 8,
   "metadata": {},
   "outputs": [
    {
     "name": "stdout",
     "output_type": "stream",
     "text": [
      "0 b'# ---------------------------------- WARNING ----------------------------------------'\n",
      "1 b'# Some of the data that you have obtained from this U.S. Geological Survey database'\n",
      "2 b\"# may not have received Director's approval. Any such data values are qualified\"\n",
      "3 b'# as provisional and are subject to revision. Provisional data are released on the'\n",
      "4 b'# condition that neither the USGS nor the United States Government may be held liable'\n",
      "5 b'# for any damages resulting from its use.'\n",
      "6 b'#'\n",
      "7 b'# Additional info: https://help.waterdata.usgs.gov/policies/provisional-data-statement'\n",
      "8 b'#'\n",
      "9 b'# File-format description:  https://help.waterdata.usgs.gov/faq/about-tab-delimited-output'\n",
      "10 b'# Automated-retrieval info: https://help.waterdata.usgs.gov/faq/automated-retrievals'\n",
      "11 b'#'\n",
      "12 b'# Contact:   gs-w_waterdata_support@usgs.gov'\n",
      "13 b'# retrieved: 2023-06-15 15:06:52 EDT       (sdww02)'\n",
      "14 b'#'\n",
      "15 b'# Data for the following 1 site(s) are contained in this file'\n",
      "16 b'#    USGS 06423500 CHEYENNE RIVER NEAR WASTA, SD'\n",
      "17 b'# -----------------------------------------------------------------------------------'\n",
      "18 b'#'\n",
      "19 b'# Data provided for site 06423500'\n",
      "20 b'#            TS   parameter     statistic     Description'\n",
      "21 b'#        128529       00060     00003     Discharge, cubic feet per second (Mean)'\n",
      "22 b'#'\n",
      "23 b'# Data-value qualification codes included in this output:'\n",
      "24 b'#        '\n",
      "25 b'#     A  Approved for publication -- Processing and review completed.'\n",
      "26 b'#     P  Provisional data subject to revision.'\n",
      "27 b'#     e  Value has been estimated.'\n",
      "28 b'# '\n",
      "29 b'agency_cd\\tsite_no\\tdatetime\\t128529_00060_00003\\t128529_00060_00003_cd'\n",
      "30 b'5s\\t15s\\t20d\\t14n\\t10s'\n"
     ]
    }
   ],
   "source": [
    "for i, line in enumerate(data.content.splitlines()[:31]):\n",
    "    print(i, line)"
   ]
  },
  {
   "cell_type": "code",
   "execution_count": 9,
   "metadata": {},
   "outputs": [
    {
     "name": "stdout",
     "output_type": "stream",
     "text": [
      "0 b'# ---------------------------------- WARNING ----------------------------------------'\n",
      "1 b'# Some of the data that you have obtained from this U.S. Geological Survey database'\n",
      "2 b\"# may not have received Director's approval. Any such data values are qualified\"\n",
      "3 b'# as provisional and are subject to revision. Provisional data are released on the'\n",
      "4 b'# condition that neither the USGS nor the United States Government may be held liable'\n",
      "5 b'# for any damages resulting from its use.'\n",
      "6 b'#'\n",
      "7 b'# Additional info: https://help.waterdata.usgs.gov/policies/provisional-data-statement'\n",
      "8 b'#'\n",
      "9 b'# File-format description:  https://help.waterdata.usgs.gov/faq/about-tab-delimited-output'\n",
      "10 b'# Automated-retrieval info: https://help.waterdata.usgs.gov/faq/automated-retrievals'\n",
      "11 b'#'\n",
      "12 b'# Contact:   gs-w_waterdata_support@usgs.gov'\n",
      "13 b'# retrieved: 2023-06-15 15:06:57 EDT       (vaww01)'\n",
      "14 b'#'\n",
      "15 b'# Data for the following 1 site(s) are contained in this file'\n",
      "16 b'#    USGS 05082500 RED RIVER OF THE NORTH AT GRAND FORKS, ND'\n",
      "17 b'# -----------------------------------------------------------------------------------'\n",
      "18 b'#'\n",
      "19 b'# Data provided for site 05082500'\n",
      "20 b'#            TS   parameter     statistic     Description'\n",
      "21 b'#         91262       00060     00003     Discharge, cubic feet per second (Mean)'\n",
      "22 b'#'\n",
      "23 b'# Data-value qualification codes included in this output:'\n",
      "24 b'#     A  Approved for publication -- Processing and review completed.'\n",
      "25 b'#     P  Provisional data subject to revision.'\n",
      "26 b'#     R  Records for these data have been revised. [https://waterdata.usgs.gov/usa/nwis/revision/?site_no=05082500&ts_ids=91262]'\n",
      "27 b'#     e  Value has been estimated.'\n",
      "28 b'# '\n",
      "29 b'agency_cd\\tsite_no\\tdatetime\\t91262_00060_00003\\t91262_00060_00003_cd'\n",
      "30 b'5s\\t15s\\t20d\\t14n\\t10s'\n"
     ]
    }
   ],
   "source": [
    "for i, line in enumerate(gf_data.content.splitlines()[:31]):\n",
    "    print(i, line)"
   ]
  },
  {
   "attachments": {},
   "cell_type": "markdown",
   "metadata": {
    "deletable": false,
    "editable": false,
    "nbgrader": {
     "cell_type": "markdown",
     "checksum": "91818f0cb841ee907383b85ab86fb4bc",
     "grade": false,
     "grade_id": "instr-comment",
     "locked": true,
     "schema_version": 3,
     "solution": false,
     "task": false
    }
   },
   "source": [
    "In the [NWIS documentation](https://waterdata.usgs.gov/nwis/?tab_delimited_format_info), they say that you can ignore lines that start with a hash sign (#) because they are **commented**. When we use pandas to import the data, we'll be able to tell it what character indicates a comment, but we're not there yet. The code below again prints the first 35 lines of the response content, this time skipping all commented lines. \n",
    "\n",
    "&#128187; In the cell below, replace `response` with the name of the response variable that you defined above. Then run the code."
   ]
  },
  {
   "cell_type": "code",
   "execution_count": 10,
   "metadata": {},
   "outputs": [
    {
     "name": "stdout",
     "output_type": "stream",
     "text": [
      "29 b'agency_cd\\tsite_no\\tdatetime\\t128529_00060_00003\\t128529_00060_00003_cd'\n",
      "30 b'5s\\t15s\\t20d\\t14n\\t10s'\n",
      "31 b'USGS\\t06423500\\t1914-10-01\\t56.0\\tA'\n",
      "32 b'USGS\\t06423500\\t1914-10-02\\t57.0\\tA'\n",
      "33 b'USGS\\t06423500\\t1914-10-03\\t57.0\\tA'\n",
      "34 b'USGS\\t06423500\\t1914-10-04\\t60.0\\tA'\n"
     ]
    }
   ],
   "source": [
    "# Take a look at the data. What got downloaded?\n",
    "for i, line in enumerate(data.content.splitlines()[:35]):\n",
    "    if not line.startswith(b'#'):\n",
    "        print(i, line)"
   ]
  },
  {
   "cell_type": "code",
   "execution_count": 11,
   "metadata": {},
   "outputs": [
    {
     "name": "stdout",
     "output_type": "stream",
     "text": [
      "29 b'agency_cd\\tsite_no\\tdatetime\\t91262_00060_00003\\t91262_00060_00003_cd'\n",
      "30 b'5s\\t15s\\t20d\\t14n\\t10s'\n",
      "31 b'USGS\\t05082500\\t1995-01-01\\t2000\\tA:e'\n",
      "32 b'USGS\\t05082500\\t1995-01-02\\t1950\\tA:e'\n",
      "33 b'USGS\\t05082500\\t1995-01-03\\t1900\\tA:e'\n",
      "34 b'USGS\\t05082500\\t1995-01-04\\t1800\\tA:e'\n"
     ]
    }
   ],
   "source": [
    "# Take a look at the data. What got downloaded?\n",
    "for i, line in enumerate(gf_data.content.splitlines()[:35]):\n",
    "    if not line.startswith(b'#'):\n",
    "        print(i, line)"
   ]
  },
  {
   "attachments": {},
   "cell_type": "markdown",
   "metadata": {
    "deletable": false,
    "editable": false,
    "nbgrader": {
     "cell_type": "markdown",
     "checksum": "5511456e9ebcb95423d212ccb7d64d1e",
     "grade": false,
     "grade_id": "instr-describe-data",
     "locked": true,
     "schema_version": 3,
     "solution": false,
     "task": false
    }
   },
   "source": [
    "&#9998; What do you notice about the data now? In the following cell, write down your thoughts on:\n",
    "  * What separator or **delimiter** does the data use to separate columns?\n",
    "    * Tab (\\t)\n",
    "  * What should the data types of each column be?\n",
    "    * Data rows must have exactly the same number of tab-delimited columns as both the column-name and column-definition rows\n",
    "  * Which column contains the streamflow data?\n",
    "    * 4\n",
    "  * Do you need to skip any rows that don't contain data?\n",
    "    * yes, 31\n",
    "  * Which column do you think makes sense as the **index** (unique identifier) for each row?\n",
    "    * 2\n",
    "  * Is there anything else strange?\n",
    "    * what is row 3?\n",
    "\n",
    "The answers to the questions above will help you figure out what parameters to use with the `pd.read_csv()` function."
   ]
  },
  {
   "attachments": {},
   "cell_type": "markdown",
   "metadata": {},
   "source": []
  },
  {
   "attachments": {},
   "cell_type": "markdown",
   "metadata": {
    "deletable": false,
    "editable": false,
    "nbgrader": {
     "cell_type": "markdown",
     "checksum": "159f43019e7201e37afb31552c80099a",
     "grade": false,
     "grade_id": "instr-import",
     "locked": true,
     "schema_version": 3,
     "solution": false,
     "task": false
    }
   },
   "source": [
    "#### Now we're ready to import the data with pandas. \n",
    "\n",
    "Notice that when you print your downloaded data, each line has a `b` in front of it. The `b` stands for \"bytes\". In order for pandas to be able to read the data, we need to **decode** it so each line is a regular string. In the cell below, we do this using the `io.BytesIO` function, which tricks `pandas` into thinking it is reading a binary file.\n",
    "\n",
    "&#128187; Your task:\n",
    "  * Replace `response` with the name of your HTTP Response variable\n",
    "  * Uncomment the code below, **one line at a time**.\n",
    "  * Using the observations you made above, add the necessary values to get `pandas` to correctly import the data.\n",
    "  * Make sure to include units in your column names where applicable! What units are these streamflow measurements?"
   ]
  },
  {
   "cell_type": "code",
   "execution_count": 12,
   "metadata": {
    "deletable": false,
    "nbgrader": {
     "cell_type": "code",
     "checksum": "8c9d8a331827383133ef3717021ae919",
     "grade": false,
     "grade_id": "ans-import",
     "locked": false,
     "schema_version": 3,
     "solution": true,
     "task": false
    }
   },
   "outputs": [
    {
     "data": {
      "text/html": [
       "<div>\n",
       "<style scoped>\n",
       "    .dataframe tbody tr th:only-of-type {\n",
       "        vertical-align: middle;\n",
       "    }\n",
       "\n",
       "    .dataframe tbody tr th {\n",
       "        vertical-align: top;\n",
       "    }\n",
       "\n",
       "    .dataframe thead th {\n",
       "        text-align: right;\n",
       "    }\n",
       "</style>\n",
       "<table border=\"1\" class=\"dataframe\">\n",
       "  <thead>\n",
       "    <tr style=\"text-align: right;\">\n",
       "      <th></th>\n",
       "      <th>Agency</th>\n",
       "      <th>Site ID</th>\n",
       "      <th>Discharge</th>\n",
       "      <th>Code</th>\n",
       "    </tr>\n",
       "    <tr>\n",
       "      <th>Date</th>\n",
       "      <th></th>\n",
       "      <th></th>\n",
       "      <th></th>\n",
       "      <th></th>\n",
       "    </tr>\n",
       "  </thead>\n",
       "  <tbody>\n",
       "    <tr>\n",
       "      <th>1914-10-01</th>\n",
       "      <td>USGS</td>\n",
       "      <td>6423500</td>\n",
       "      <td>56.0</td>\n",
       "      <td>A</td>\n",
       "    </tr>\n",
       "    <tr>\n",
       "      <th>1914-10-02</th>\n",
       "      <td>USGS</td>\n",
       "      <td>6423500</td>\n",
       "      <td>57.0</td>\n",
       "      <td>A</td>\n",
       "    </tr>\n",
       "    <tr>\n",
       "      <th>1914-10-03</th>\n",
       "      <td>USGS</td>\n",
       "      <td>6423500</td>\n",
       "      <td>57.0</td>\n",
       "      <td>A</td>\n",
       "    </tr>\n",
       "    <tr>\n",
       "      <th>1914-10-04</th>\n",
       "      <td>USGS</td>\n",
       "      <td>6423500</td>\n",
       "      <td>60.0</td>\n",
       "      <td>A</td>\n",
       "    </tr>\n",
       "    <tr>\n",
       "      <th>1914-10-05</th>\n",
       "      <td>USGS</td>\n",
       "      <td>6423500</td>\n",
       "      <td>60.0</td>\n",
       "      <td>A</td>\n",
       "    </tr>\n",
       "    <tr>\n",
       "      <th>...</th>\n",
       "      <td>...</td>\n",
       "      <td>...</td>\n",
       "      <td>...</td>\n",
       "      <td>...</td>\n",
       "    </tr>\n",
       "    <tr>\n",
       "      <th>2023-05-27</th>\n",
       "      <td>USGS</td>\n",
       "      <td>6423500</td>\n",
       "      <td>NaN</td>\n",
       "      <td>NaN</td>\n",
       "    </tr>\n",
       "    <tr>\n",
       "      <th>2023-05-28</th>\n",
       "      <td>USGS</td>\n",
       "      <td>6423500</td>\n",
       "      <td>NaN</td>\n",
       "      <td>NaN</td>\n",
       "    </tr>\n",
       "    <tr>\n",
       "      <th>2023-05-29</th>\n",
       "      <td>USGS</td>\n",
       "      <td>6423500</td>\n",
       "      <td>NaN</td>\n",
       "      <td>NaN</td>\n",
       "    </tr>\n",
       "    <tr>\n",
       "      <th>2023-05-30</th>\n",
       "      <td>USGS</td>\n",
       "      <td>6423500</td>\n",
       "      <td>NaN</td>\n",
       "      <td>NaN</td>\n",
       "    </tr>\n",
       "    <tr>\n",
       "      <th>2023-05-31</th>\n",
       "      <td>USGS</td>\n",
       "      <td>6423500</td>\n",
       "      <td>634</td>\n",
       "      <td>P</td>\n",
       "    </tr>\n",
       "  </tbody>\n",
       "</table>\n",
       "<p>39690 rows × 4 columns</p>\n",
       "</div>"
      ],
      "text/plain": [
       "           Agency  Site ID Discharge Code\n",
       "Date                                     \n",
       "1914-10-01   USGS  6423500      56.0    A\n",
       "1914-10-02   USGS  6423500      57.0    A\n",
       "1914-10-03   USGS  6423500      57.0    A\n",
       "1914-10-04   USGS  6423500      60.0    A\n",
       "1914-10-05   USGS  6423500      60.0    A\n",
       "...           ...      ...       ...  ...\n",
       "2023-05-27   USGS  6423500       NaN  NaN\n",
       "2023-05-28   USGS  6423500       NaN  NaN\n",
       "2023-05-29   USGS  6423500       NaN  NaN\n",
       "2023-05-30   USGS  6423500       NaN  NaN\n",
       "2023-05-31   USGS  6423500       634    P\n",
       "\n",
       "[39690 rows x 4 columns]"
      ]
     },
     "execution_count": 12,
     "metadata": {},
     "output_type": "execute_result"
    }
   ],
   "source": [
    "river_flow = pd.read_csv(\n",
    "    BytesIO(data.content),\n",
    "    comment='#',\n",
    "    delimiter='\\t', \n",
    "    skiprows=[29,30],\n",
    "    names=['Agency', 'Site ID', 'Date', 'Discharge', 'Code'],\n",
    "    index_col='Date',\n",
    "    parse_dates=True,\n",
    ")\n",
    "river_flow"
   ]
  },
  {
   "cell_type": "code",
   "execution_count": 13,
   "metadata": {
    "deletable": false,
    "editable": false,
    "nbgrader": {
     "cell_type": "code",
     "checksum": "8d3d62d6bf0061c526654692b359c0c6",
     "grade": true,
     "grade_id": "test-import",
     "locked": true,
     "points": 4,
     "schema_version": 3,
     "solution": false,
     "task": false
    }
   },
   "outputs": [
    {
     "name": "stdout",
     "output_type": "stream",
     "text": [
      "✅ Looks like your DataFrame has enough rows!\n",
      "✅ Looks like your DataFrame has enough columns!\n",
      "➡ You earned 4 of 4 points\n"
     ]
    }
   ],
   "source": [
    "ans_df = _\n",
    "df_points = 0\n",
    "\n",
    "if len(ans_df) >= 39658:\n",
    "    print(\"\\u2705 Looks like your DataFrame has enough rows!\")\n",
    "    df_points += 2\n",
    "else:\n",
    "    print(\"\\u274C Oops, your DataFrame doesnt have enough rows\")\n",
    "\n",
    "if len(ans_df.columns) == 4:\n",
    "    print(\"\\u2705 Looks like your DataFrame has enough columns!\")\n",
    "    df_points += 2\n",
    "elif len(ans_df.columns) == 5:\n",
    "    print(\"\\u274C Hmm, looks like you didn't set an index column\")\n",
    "else:\n",
    "    print(\"\\u274C Oops, your DataFrame doesn't have the right number of \"\n",
    "          \"columns\")\n",
    "    \n",
    "print(\"\\u27A1 You earned {} of 4 points\".format(df_points))"
   ]
  },
  {
   "cell_type": "code",
   "execution_count": 14,
   "metadata": {},
   "outputs": [
    {
     "data": {
      "text/html": [
       "<div>\n",
       "<style scoped>\n",
       "    .dataframe tbody tr th:only-of-type {\n",
       "        vertical-align: middle;\n",
       "    }\n",
       "\n",
       "    .dataframe tbody tr th {\n",
       "        vertical-align: top;\n",
       "    }\n",
       "\n",
       "    .dataframe thead th {\n",
       "        text-align: right;\n",
       "    }\n",
       "</style>\n",
       "<table border=\"1\" class=\"dataframe\">\n",
       "  <thead>\n",
       "    <tr style=\"text-align: right;\">\n",
       "      <th></th>\n",
       "      <th>Agency</th>\n",
       "      <th>Site ID</th>\n",
       "      <th>Discharge</th>\n",
       "      <th>Code</th>\n",
       "    </tr>\n",
       "    <tr>\n",
       "      <th>Date</th>\n",
       "      <th></th>\n",
       "      <th></th>\n",
       "      <th></th>\n",
       "      <th></th>\n",
       "    </tr>\n",
       "  </thead>\n",
       "  <tbody>\n",
       "    <tr>\n",
       "      <th>1995-01-01</th>\n",
       "      <td>USGS</td>\n",
       "      <td>5082500</td>\n",
       "      <td>2000</td>\n",
       "      <td>A:e</td>\n",
       "    </tr>\n",
       "    <tr>\n",
       "      <th>1995-01-02</th>\n",
       "      <td>USGS</td>\n",
       "      <td>5082500</td>\n",
       "      <td>1950</td>\n",
       "      <td>A:e</td>\n",
       "    </tr>\n",
       "    <tr>\n",
       "      <th>1995-01-03</th>\n",
       "      <td>USGS</td>\n",
       "      <td>5082500</td>\n",
       "      <td>1900</td>\n",
       "      <td>A:e</td>\n",
       "    </tr>\n",
       "    <tr>\n",
       "      <th>1995-01-04</th>\n",
       "      <td>USGS</td>\n",
       "      <td>5082500</td>\n",
       "      <td>1800</td>\n",
       "      <td>A:e</td>\n",
       "    </tr>\n",
       "    <tr>\n",
       "      <th>1995-01-05</th>\n",
       "      <td>USGS</td>\n",
       "      <td>5082500</td>\n",
       "      <td>1800</td>\n",
       "      <td>A:e</td>\n",
       "    </tr>\n",
       "    <tr>\n",
       "      <th>...</th>\n",
       "      <td>...</td>\n",
       "      <td>...</td>\n",
       "      <td>...</td>\n",
       "      <td>...</td>\n",
       "    </tr>\n",
       "    <tr>\n",
       "      <th>2023-06-10</th>\n",
       "      <td>USGS</td>\n",
       "      <td>5082500</td>\n",
       "      <td>7150</td>\n",
       "      <td>P</td>\n",
       "    </tr>\n",
       "    <tr>\n",
       "      <th>2023-06-11</th>\n",
       "      <td>USGS</td>\n",
       "      <td>5082500</td>\n",
       "      <td>6900</td>\n",
       "      <td>P</td>\n",
       "    </tr>\n",
       "    <tr>\n",
       "      <th>2023-06-12</th>\n",
       "      <td>USGS</td>\n",
       "      <td>5082500</td>\n",
       "      <td>6650</td>\n",
       "      <td>P</td>\n",
       "    </tr>\n",
       "    <tr>\n",
       "      <th>2023-06-13</th>\n",
       "      <td>USGS</td>\n",
       "      <td>5082500</td>\n",
       "      <td>6460</td>\n",
       "      <td>P</td>\n",
       "    </tr>\n",
       "    <tr>\n",
       "      <th>2023-06-14</th>\n",
       "      <td>USGS</td>\n",
       "      <td>5082500</td>\n",
       "      <td>6240</td>\n",
       "      <td>P</td>\n",
       "    </tr>\n",
       "  </tbody>\n",
       "</table>\n",
       "<p>10392 rows × 4 columns</p>\n",
       "</div>"
      ],
      "text/plain": [
       "           Agency  Site ID Discharge Code\n",
       "Date                                     \n",
       "1995-01-01   USGS  5082500      2000  A:e\n",
       "1995-01-02   USGS  5082500      1950  A:e\n",
       "1995-01-03   USGS  5082500      1900  A:e\n",
       "1995-01-04   USGS  5082500      1800  A:e\n",
       "1995-01-05   USGS  5082500      1800  A:e\n",
       "...           ...      ...       ...  ...\n",
       "2023-06-10   USGS  5082500      7150    P\n",
       "2023-06-11   USGS  5082500      6900    P\n",
       "2023-06-12   USGS  5082500      6650    P\n",
       "2023-06-13   USGS  5082500      6460    P\n",
       "2023-06-14   USGS  5082500      6240    P\n",
       "\n",
       "[10392 rows x 4 columns]"
      ]
     },
     "execution_count": 14,
     "metadata": {},
     "output_type": "execute_result"
    }
   ],
   "source": [
    "gf_river_flow = pd.read_csv(\n",
    "    BytesIO(gf_data.content),\n",
    "    comment='#',\n",
    "    delimiter='\\t', \n",
    "    skiprows=[29,30],\n",
    "    names=['Agency', 'Site ID', 'Date', 'Discharge', 'Code'],\n",
    "    index_col='Date',\n",
    "    parse_dates=True,\n",
    ")\n",
    "gf_river_flow"
   ]
  },
  {
   "attachments": {},
   "cell_type": "markdown",
   "metadata": {
    "deletable": false,
    "editable": false,
    "nbgrader": {
     "cell_type": "markdown",
     "checksum": "617086bc7f7c06fd9aafd66587d7000e",
     "grade": false,
     "grade_id": "instr-type",
     "locked": true,
     "schema_version": 3,
     "solution": false,
     "task": false
    }
   },
   "source": [
    "Let's check your data. A useful method for looking at the **datatypes** in your `pd.DataFrame` is the `pd.DataFrame.info()` method.\n",
    "\n",
    "> In Python, you will see both **methods** and **functions**. This is an *important and tricky* distinction we'll be talking about a lot. For right now -- functions have all of their arguments/parameters **inside** the parentheses, as in `pd.read_csv(args)`. For **methods**, the first argument is always some kind of Python **object** like a `pd.DataFrame`. Take a look at the next cell for an example of using the `pd.DataFrame.info()` **method**.\n",
    "\n",
    "\n",
    "&#128187;  Replace `dataframe` with the name of your DataFrame variable"
   ]
  },
  {
   "cell_type": "code",
   "execution_count": 15,
   "metadata": {},
   "outputs": [
    {
     "name": "stdout",
     "output_type": "stream",
     "text": [
      "<class 'pandas.core.frame.DataFrame'>\n",
      "DatetimeIndex: 39690 entries, 1914-10-01 to 2023-05-31\n",
      "Data columns (total 4 columns):\n",
      " #   Column     Non-Null Count  Dtype \n",
      "---  ------     --------------  ----- \n",
      " 0   Agency     39690 non-null  object\n",
      " 1   Site ID    39690 non-null  int64 \n",
      " 2   Discharge  34184 non-null  object\n",
      " 3   Code       34184 non-null  object\n",
      "dtypes: int64(1), object(3)\n",
      "memory usage: 1.5+ MB\n"
     ]
    }
   ],
   "source": [
    "river_flow.info()"
   ]
  },
  {
   "cell_type": "code",
   "execution_count": 16,
   "metadata": {},
   "outputs": [
    {
     "name": "stdout",
     "output_type": "stream",
     "text": [
      "<class 'pandas.core.frame.DataFrame'>\n",
      "DatetimeIndex: 10392 entries, 1995-01-01 to 2023-06-14\n",
      "Data columns (total 4 columns):\n",
      " #   Column     Non-Null Count  Dtype \n",
      "---  ------     --------------  ----- \n",
      " 0   Agency     10392 non-null  object\n",
      " 1   Site ID    10392 non-null  int64 \n",
      " 2   Discharge  10392 non-null  object\n",
      " 3   Code       10392 non-null  object\n",
      "dtypes: int64(1), object(3)\n",
      "memory usage: 405.9+ KB\n"
     ]
    }
   ],
   "source": [
    "gf_river_flow.info()"
   ]
  },
  {
   "attachments": {},
   "cell_type": "markdown",
   "metadata": {
    "deletable": false,
    "editable": false,
    "nbgrader": {
     "cell_type": "markdown",
     "checksum": "05e1e29fde8cbf00122e190bdb880fe4",
     "grade": false,
     "grade_id": "task-type",
     "locked": true,
     "points": 4,
     "schema_version": 3,
     "solution": false,
     "task": true
    }
   },
   "source": [
    "Oops, we have one more problem! Take a look at the data types of your `DataFrame` columns...\n",
    "\n",
    "&#9998; In the cell below, write down what data type you would expect the streamflow column to be. The main options are: Integer, Float, Datetime, or Object.\n",
    "\n",
    "&#128214; Check out [this example showing the most common data types for pandas columns](https://pandas.pydata.org/docs/reference/api/pandas.DataFrame.dtypes.html)\n",
    "\n",
    "> A **float** is a non-integer number. You can identify them because they have decimal points in Python, unlike integers. We do not call them **decimals** for a reason - a `decimal.Decimal` is different, and more precise than, a `float` in Python. If you are ever working with really, really small numbers, you may need to use **decimals**, but for most applications floats are fine."
   ]
  },
  {
   "attachments": {},
   "cell_type": "markdown",
   "metadata": {},
   "source": [
    "The streamflow column would be a float since it includes decimals. "
   ]
  },
  {
   "attachments": {},
   "cell_type": "markdown",
   "metadata": {
    "deletable": false,
    "editable": false,
    "nbgrader": {
     "cell_type": "markdown",
     "checksum": "5b8bcc57cc8d10293fe2266e561096e7",
     "grade": false,
     "grade_id": "cell-afe83558de537192",
     "locked": true,
     "schema_version": 3,
     "solution": false,
     "task": false
    }
   },
   "source": [
    "`pandas` was able to apply the correct data type to some columns, but not to the streamflow column. One reason this happens is because there are some values in the `DataFrame` that cannot be read in or **parsed** as the same data type as everything else. Often, these are **no data values**. Unfortunately, the [documentation](https://waterdata.usgs.gov/nwis/?tab_delimited_format_info) does not list any no data values.\n",
    "\n",
    "The code below runs through the values in the streamflow column one by one. It **tries** to convert each value to a **float**, but if it fails it prints the result and then stops.\n",
    "\n",
    "> Q is a common variable name for streamflow in hydrology\n",
    "\n",
    "&#128187; Replace `dataframe` below with your `DataFrame` name, and `streamflow_cfs` with your streamflow column name."
   ]
  },
  {
   "cell_type": "code",
   "execution_count": 17,
   "metadata": {},
   "outputs": [
    {
     "name": "stdout",
     "output_type": "stream",
     "text": [
      "Ice\n"
     ]
    }
   ],
   "source": [
    "for q in gf_river_flow.Discharge:\n",
    "    try: \n",
    "        float(q)\n",
    "    except:\n",
    "        print(q)\n",
    "        break"
   ]
  },
  {
   "attachments": {},
   "cell_type": "markdown",
   "metadata": {
    "deletable": false,
    "editable": false,
    "nbgrader": {
     "cell_type": "markdown",
     "checksum": "834e9d15097e30aa3c80f9bf248bf67d",
     "grade": false,
     "grade_id": "instr-import2",
     "locked": true,
     "schema_version": 3,
     "solution": false,
     "task": false
    }
   },
   "source": [
    "Looks like some of the streamflow data is a string instead of a number. This lets us know that no data could be taken that day because the Cheyenne River was frozen! We can let Python know that there isn't any data there using the `na_values='...'` parameter. Substitute the value you found for the `...`\n",
    "\n",
    "&#128187; Re-import your data below, this time indicating an NA value. Call your new `DataFrame` at the end for testing."
   ]
  },
  {
   "cell_type": "code",
   "execution_count": 18,
   "metadata": {
    "deletable": false,
    "nbgrader": {
     "cell_type": "code",
     "checksum": "9945cf32d89c4c78b31b57ca4d994f0c",
     "grade": false,
     "grade_id": "ans-import2",
     "locked": false,
     "schema_version": 3,
     "solution": true,
     "task": false
    }
   },
   "outputs": [
    {
     "data": {
      "text/html": [
       "<div>\n",
       "<style scoped>\n",
       "    .dataframe tbody tr th:only-of-type {\n",
       "        vertical-align: middle;\n",
       "    }\n",
       "\n",
       "    .dataframe tbody tr th {\n",
       "        vertical-align: top;\n",
       "    }\n",
       "\n",
       "    .dataframe thead th {\n",
       "        text-align: right;\n",
       "    }\n",
       "</style>\n",
       "<table border=\"1\" class=\"dataframe\">\n",
       "  <thead>\n",
       "    <tr style=\"text-align: right;\">\n",
       "      <th></th>\n",
       "      <th>Agency</th>\n",
       "      <th>Site ID</th>\n",
       "      <th>Discharge</th>\n",
       "      <th>Code</th>\n",
       "    </tr>\n",
       "    <tr>\n",
       "      <th>Date</th>\n",
       "      <th></th>\n",
       "      <th></th>\n",
       "      <th></th>\n",
       "      <th></th>\n",
       "    </tr>\n",
       "  </thead>\n",
       "  <tbody>\n",
       "    <tr>\n",
       "      <th>1914-10-01</th>\n",
       "      <td>USGS</td>\n",
       "      <td>6423500</td>\n",
       "      <td>56.0</td>\n",
       "      <td>A</td>\n",
       "    </tr>\n",
       "    <tr>\n",
       "      <th>1914-10-02</th>\n",
       "      <td>USGS</td>\n",
       "      <td>6423500</td>\n",
       "      <td>57.0</td>\n",
       "      <td>A</td>\n",
       "    </tr>\n",
       "    <tr>\n",
       "      <th>1914-10-03</th>\n",
       "      <td>USGS</td>\n",
       "      <td>6423500</td>\n",
       "      <td>57.0</td>\n",
       "      <td>A</td>\n",
       "    </tr>\n",
       "    <tr>\n",
       "      <th>1914-10-04</th>\n",
       "      <td>USGS</td>\n",
       "      <td>6423500</td>\n",
       "      <td>60.0</td>\n",
       "      <td>A</td>\n",
       "    </tr>\n",
       "    <tr>\n",
       "      <th>1914-10-05</th>\n",
       "      <td>USGS</td>\n",
       "      <td>6423500</td>\n",
       "      <td>60.0</td>\n",
       "      <td>A</td>\n",
       "    </tr>\n",
       "    <tr>\n",
       "      <th>...</th>\n",
       "      <td>...</td>\n",
       "      <td>...</td>\n",
       "      <td>...</td>\n",
       "      <td>...</td>\n",
       "    </tr>\n",
       "    <tr>\n",
       "      <th>2023-05-27</th>\n",
       "      <td>USGS</td>\n",
       "      <td>6423500</td>\n",
       "      <td>NaN</td>\n",
       "      <td>NaN</td>\n",
       "    </tr>\n",
       "    <tr>\n",
       "      <th>2023-05-28</th>\n",
       "      <td>USGS</td>\n",
       "      <td>6423500</td>\n",
       "      <td>NaN</td>\n",
       "      <td>NaN</td>\n",
       "    </tr>\n",
       "    <tr>\n",
       "      <th>2023-05-29</th>\n",
       "      <td>USGS</td>\n",
       "      <td>6423500</td>\n",
       "      <td>NaN</td>\n",
       "      <td>NaN</td>\n",
       "    </tr>\n",
       "    <tr>\n",
       "      <th>2023-05-30</th>\n",
       "      <td>USGS</td>\n",
       "      <td>6423500</td>\n",
       "      <td>NaN</td>\n",
       "      <td>NaN</td>\n",
       "    </tr>\n",
       "    <tr>\n",
       "      <th>2023-05-31</th>\n",
       "      <td>USGS</td>\n",
       "      <td>6423500</td>\n",
       "      <td>634.0</td>\n",
       "      <td>P</td>\n",
       "    </tr>\n",
       "  </tbody>\n",
       "</table>\n",
       "<p>39690 rows × 4 columns</p>\n",
       "</div>"
      ],
      "text/plain": [
       "           Agency  Site ID  Discharge Code\n",
       "Date                                      \n",
       "1914-10-01   USGS  6423500       56.0    A\n",
       "1914-10-02   USGS  6423500       57.0    A\n",
       "1914-10-03   USGS  6423500       57.0    A\n",
       "1914-10-04   USGS  6423500       60.0    A\n",
       "1914-10-05   USGS  6423500       60.0    A\n",
       "...           ...      ...        ...  ...\n",
       "2023-05-27   USGS  6423500        NaN  NaN\n",
       "2023-05-28   USGS  6423500        NaN  NaN\n",
       "2023-05-29   USGS  6423500        NaN  NaN\n",
       "2023-05-30   USGS  6423500        NaN  NaN\n",
       "2023-05-31   USGS  6423500      634.0    P\n",
       "\n",
       "[39690 rows x 4 columns]"
      ]
     },
     "execution_count": 18,
     "metadata": {},
     "output_type": "execute_result"
    }
   ],
   "source": [
    "DataFrame = pd.read_csv(\n",
    "    BytesIO(data.content),\n",
    "    comment='#',\n",
    "    delimiter='\\t', \n",
    "    skiprows=[29,30],\n",
    "    names=['Agency', 'Site ID', 'Date', 'Discharge', 'Code'],\n",
    "    index_col='Date',\n",
    "    parse_dates=True,\n",
    "    na_values='Ice'\n",
    ")\n",
    "DataFrame"
   ]
  },
  {
   "cell_type": "code",
   "execution_count": 19,
   "metadata": {
    "deletable": false,
    "editable": false,
    "nbgrader": {
     "cell_type": "code",
     "checksum": "333acca25af39e2bdd4f113566669ad0",
     "grade": true,
     "grade_id": "test-import2",
     "locked": true,
     "points": 6,
     "schema_version": 3,
     "solution": false,
     "task": false
    }
   },
   "outputs": [
    {
     "name": "stdout",
     "output_type": "stream",
     "text": [
      "✅ Great, you created a pandas dataframe above\n",
      "✅ Your DataFrame has the date as the index, good job!\n",
      "✅ Your streamflow column is floats!\n",
      "✅ Your streamflow DataFrame has the expected values in it, good job!\n",
      "➡ You received 6 out of 6 points for opening the streamflow data.\n"
     ]
    },
    {
     "data": {
      "text/plain": [
       "6"
      ]
     },
     "execution_count": 19,
     "metadata": {},
     "output_type": "execute_result"
    }
   ],
   "source": [
    "ans_q = _\n",
    "q_points = 0\n",
    "\n",
    "if isinstance(ans_q, pd.DataFrame):\n",
    "    print(\"\\u2705 Great, you created a pandas dataframe above\")\n",
    "    q_points += 1\n",
    "else:\n",
    "    print(\"\\u274C Oops - the cell above should have a DataFrame output.\")\n",
    "\n",
    "if type(ans_q.index) == pd.DatetimeIndex:\n",
    "    print(\"\\u2705 Your DataFrame has the date as the index, \"\n",
    "          \"good job!\")\n",
    "    q_points += 1\n",
    "else:\n",
    "    print(\"\\u274C Your DataFrame does not have the date \"\n",
    "          \"as the index.\")\n",
    "    \n",
    "import numpy as np\n",
    "if ans_q.iloc[:,2].dtype == np.float64:\n",
    "    print(\"\\u2705 Your streamflow column is floats!\")\n",
    "    q_points += 2\n",
    "else:\n",
    "    print(\"\\u274C Your streamflow column still isn't floats.\")\n",
    "\n",
    "if round(ans_q.iloc[:,2].mean(), 0)==385:\n",
    "    print(\"\\u2705 Your streamflow DataFrame has the expected values \"\n",
    "          \"in it, good job!\")\n",
    "    q_points += 2\n",
    "else:\n",
    "    print(\"\\u274C Your streamflow DataFrame does not have the \"\n",
    "          \"expected values in it.\")\n",
    "\n",
    "print(\"\\u27A1 You received {} out of 6 points for opening the \"\n",
    "      \"streamflow data.\".format(\n",
    "    q_points))\n",
    "q_points"
   ]
  },
  {
   "cell_type": "code",
   "execution_count": 20,
   "metadata": {},
   "outputs": [
    {
     "data": {
      "text/html": [
       "<div>\n",
       "<style scoped>\n",
       "    .dataframe tbody tr th:only-of-type {\n",
       "        vertical-align: middle;\n",
       "    }\n",
       "\n",
       "    .dataframe tbody tr th {\n",
       "        vertical-align: top;\n",
       "    }\n",
       "\n",
       "    .dataframe thead th {\n",
       "        text-align: right;\n",
       "    }\n",
       "</style>\n",
       "<table border=\"1\" class=\"dataframe\">\n",
       "  <thead>\n",
       "    <tr style=\"text-align: right;\">\n",
       "      <th></th>\n",
       "      <th>Agency</th>\n",
       "      <th>Site ID</th>\n",
       "      <th>Discharge</th>\n",
       "      <th>Code</th>\n",
       "    </tr>\n",
       "    <tr>\n",
       "      <th>Date</th>\n",
       "      <th></th>\n",
       "      <th></th>\n",
       "      <th></th>\n",
       "      <th></th>\n",
       "    </tr>\n",
       "  </thead>\n",
       "  <tbody>\n",
       "    <tr>\n",
       "      <th>1995-01-01</th>\n",
       "      <td>USGS</td>\n",
       "      <td>5082500</td>\n",
       "      <td>2000.0</td>\n",
       "      <td>A:e</td>\n",
       "    </tr>\n",
       "    <tr>\n",
       "      <th>1995-01-02</th>\n",
       "      <td>USGS</td>\n",
       "      <td>5082500</td>\n",
       "      <td>1950.0</td>\n",
       "      <td>A:e</td>\n",
       "    </tr>\n",
       "    <tr>\n",
       "      <th>1995-01-03</th>\n",
       "      <td>USGS</td>\n",
       "      <td>5082500</td>\n",
       "      <td>1900.0</td>\n",
       "      <td>A:e</td>\n",
       "    </tr>\n",
       "    <tr>\n",
       "      <th>1995-01-04</th>\n",
       "      <td>USGS</td>\n",
       "      <td>5082500</td>\n",
       "      <td>1800.0</td>\n",
       "      <td>A:e</td>\n",
       "    </tr>\n",
       "    <tr>\n",
       "      <th>1995-01-05</th>\n",
       "      <td>USGS</td>\n",
       "      <td>5082500</td>\n",
       "      <td>1800.0</td>\n",
       "      <td>A:e</td>\n",
       "    </tr>\n",
       "    <tr>\n",
       "      <th>...</th>\n",
       "      <td>...</td>\n",
       "      <td>...</td>\n",
       "      <td>...</td>\n",
       "      <td>...</td>\n",
       "    </tr>\n",
       "    <tr>\n",
       "      <th>2023-06-10</th>\n",
       "      <td>USGS</td>\n",
       "      <td>5082500</td>\n",
       "      <td>7150.0</td>\n",
       "      <td>P</td>\n",
       "    </tr>\n",
       "    <tr>\n",
       "      <th>2023-06-11</th>\n",
       "      <td>USGS</td>\n",
       "      <td>5082500</td>\n",
       "      <td>6900.0</td>\n",
       "      <td>P</td>\n",
       "    </tr>\n",
       "    <tr>\n",
       "      <th>2023-06-12</th>\n",
       "      <td>USGS</td>\n",
       "      <td>5082500</td>\n",
       "      <td>6650.0</td>\n",
       "      <td>P</td>\n",
       "    </tr>\n",
       "    <tr>\n",
       "      <th>2023-06-13</th>\n",
       "      <td>USGS</td>\n",
       "      <td>5082500</td>\n",
       "      <td>6460.0</td>\n",
       "      <td>P</td>\n",
       "    </tr>\n",
       "    <tr>\n",
       "      <th>2023-06-14</th>\n",
       "      <td>USGS</td>\n",
       "      <td>5082500</td>\n",
       "      <td>6240.0</td>\n",
       "      <td>P</td>\n",
       "    </tr>\n",
       "  </tbody>\n",
       "</table>\n",
       "<p>10392 rows × 4 columns</p>\n",
       "</div>"
      ],
      "text/plain": [
       "           Agency  Site ID  Discharge Code\n",
       "Date                                      \n",
       "1995-01-01   USGS  5082500     2000.0  A:e\n",
       "1995-01-02   USGS  5082500     1950.0  A:e\n",
       "1995-01-03   USGS  5082500     1900.0  A:e\n",
       "1995-01-04   USGS  5082500     1800.0  A:e\n",
       "1995-01-05   USGS  5082500     1800.0  A:e\n",
       "...           ...      ...        ...  ...\n",
       "2023-06-10   USGS  5082500     7150.0    P\n",
       "2023-06-11   USGS  5082500     6900.0    P\n",
       "2023-06-12   USGS  5082500     6650.0    P\n",
       "2023-06-13   USGS  5082500     6460.0    P\n",
       "2023-06-14   USGS  5082500     6240.0    P\n",
       "\n",
       "[10392 rows x 4 columns]"
      ]
     },
     "execution_count": 20,
     "metadata": {},
     "output_type": "execute_result"
    }
   ],
   "source": [
    "GFDataFrame = pd.read_csv(\n",
    "    BytesIO(gf_data.content),\n",
    "    comment='#',\n",
    "    delimiter='\\t', \n",
    "    skiprows=[29,30],\n",
    "    names=['Agency', 'Site ID', 'Date', 'Discharge', 'Code'],\n",
    "    index_col='Date',\n",
    "    parse_dates=True,\n",
    "    na_values='Ice'\n",
    ")\n",
    "GFDataFrame"
   ]
  },
  {
   "attachments": {},
   "cell_type": "markdown",
   "metadata": {
    "deletable": false,
    "editable": false,
    "nbgrader": {
     "cell_type": "markdown",
     "checksum": "3aa0edd6dc1ba49fb77a3f1c784b8e99",
     "grade": false,
     "grade_id": "discharge-subset-instructions",
     "locked": true,
     "schema_version": 3,
     "solution": false,
     "task": false
    }
   },
   "source": [
    "### Can we see the flood in the streamflow data?\n",
    "\n",
    "In the cell below, subset the stream discharge data to the same timeframe that you are interested in: February - April, 2019. Save the result to a variable and call it at the end of the cell for testing.\n",
    "\n",
    "You can find some [examples of subsetting time series data in the textbook](https://www.earthdatascience.org/courses/use-data-open-source-python/use-time-series-data-in-python/date-time-types-in-pandas-python/subset-time-series-data-python/)."
   ]
  },
  {
   "cell_type": "code",
   "execution_count": 21,
   "metadata": {
    "deletable": false,
    "nbgrader": {
     "cell_type": "code",
     "checksum": "89f9f8ea1c69bde63c116ab0a6f1318c",
     "grade": false,
     "grade_id": "discharge-daily",
     "locked": false,
     "schema_version": 3,
     "solution": true,
     "task": false
    }
   },
   "outputs": [
    {
     "data": {
      "text/html": [
       "<div>\n",
       "<style scoped>\n",
       "    .dataframe tbody tr th:only-of-type {\n",
       "        vertical-align: middle;\n",
       "    }\n",
       "\n",
       "    .dataframe tbody tr th {\n",
       "        vertical-align: top;\n",
       "    }\n",
       "\n",
       "    .dataframe thead th {\n",
       "        text-align: right;\n",
       "    }\n",
       "</style>\n",
       "<table border=\"1\" class=\"dataframe\">\n",
       "  <thead>\n",
       "    <tr style=\"text-align: right;\">\n",
       "      <th></th>\n",
       "      <th>Agency</th>\n",
       "      <th>Site ID</th>\n",
       "      <th>Discharge</th>\n",
       "      <th>Code</th>\n",
       "    </tr>\n",
       "    <tr>\n",
       "      <th>Date</th>\n",
       "      <th></th>\n",
       "      <th></th>\n",
       "      <th></th>\n",
       "      <th></th>\n",
       "    </tr>\n",
       "  </thead>\n",
       "  <tbody>\n",
       "    <tr>\n",
       "      <th>2019-02-01</th>\n",
       "      <td>USGS</td>\n",
       "      <td>6423500</td>\n",
       "      <td>147.0</td>\n",
       "      <td>A:e</td>\n",
       "    </tr>\n",
       "    <tr>\n",
       "      <th>2019-02-02</th>\n",
       "      <td>USGS</td>\n",
       "      <td>6423500</td>\n",
       "      <td>192.0</td>\n",
       "      <td>A:e</td>\n",
       "    </tr>\n",
       "    <tr>\n",
       "      <th>2019-02-03</th>\n",
       "      <td>USGS</td>\n",
       "      <td>6423500</td>\n",
       "      <td>233.0</td>\n",
       "      <td>A:e</td>\n",
       "    </tr>\n",
       "    <tr>\n",
       "      <th>2019-02-04</th>\n",
       "      <td>USGS</td>\n",
       "      <td>6423500</td>\n",
       "      <td>244.0</td>\n",
       "      <td>A:e</td>\n",
       "    </tr>\n",
       "    <tr>\n",
       "      <th>2019-02-05</th>\n",
       "      <td>USGS</td>\n",
       "      <td>6423500</td>\n",
       "      <td>234.0</td>\n",
       "      <td>A:e</td>\n",
       "    </tr>\n",
       "    <tr>\n",
       "      <th>...</th>\n",
       "      <td>...</td>\n",
       "      <td>...</td>\n",
       "      <td>...</td>\n",
       "      <td>...</td>\n",
       "    </tr>\n",
       "    <tr>\n",
       "      <th>2019-04-26</th>\n",
       "      <td>USGS</td>\n",
       "      <td>6423500</td>\n",
       "      <td>566.0</td>\n",
       "      <td>A</td>\n",
       "    </tr>\n",
       "    <tr>\n",
       "      <th>2019-04-27</th>\n",
       "      <td>USGS</td>\n",
       "      <td>6423500</td>\n",
       "      <td>542.0</td>\n",
       "      <td>A</td>\n",
       "    </tr>\n",
       "    <tr>\n",
       "      <th>2019-04-28</th>\n",
       "      <td>USGS</td>\n",
       "      <td>6423500</td>\n",
       "      <td>528.0</td>\n",
       "      <td>A</td>\n",
       "    </tr>\n",
       "    <tr>\n",
       "      <th>2019-04-29</th>\n",
       "      <td>USGS</td>\n",
       "      <td>6423500</td>\n",
       "      <td>520.0</td>\n",
       "      <td>A</td>\n",
       "    </tr>\n",
       "    <tr>\n",
       "      <th>2019-04-30</th>\n",
       "      <td>USGS</td>\n",
       "      <td>6423500</td>\n",
       "      <td>525.0</td>\n",
       "      <td>A</td>\n",
       "    </tr>\n",
       "  </tbody>\n",
       "</table>\n",
       "<p>89 rows × 4 columns</p>\n",
       "</div>"
      ],
      "text/plain": [
       "           Agency  Site ID  Discharge Code\n",
       "Date                                      \n",
       "2019-02-01   USGS  6423500      147.0  A:e\n",
       "2019-02-02   USGS  6423500      192.0  A:e\n",
       "2019-02-03   USGS  6423500      233.0  A:e\n",
       "2019-02-04   USGS  6423500      244.0  A:e\n",
       "2019-02-05   USGS  6423500      234.0  A:e\n",
       "...           ...      ...        ...  ...\n",
       "2019-04-26   USGS  6423500      566.0    A\n",
       "2019-04-27   USGS  6423500      542.0    A\n",
       "2019-04-28   USGS  6423500      528.0    A\n",
       "2019-04-29   USGS  6423500      520.0    A\n",
       "2019-04-30   USGS  6423500      525.0    A\n",
       "\n",
       "[89 rows x 4 columns]"
      ]
     },
     "execution_count": 21,
     "metadata": {},
     "output_type": "execute_result"
    }
   ],
   "source": [
    "# Select all December data - view first few rows\n",
    "flood_dates = DataFrame['2019-02':'2019-04']\n",
    "\n",
    "flood_dates\n"
   ]
  },
  {
   "cell_type": "code",
   "execution_count": 22,
   "metadata": {
    "deletable": false,
    "editable": false,
    "nbgrader": {
     "cell_type": "code",
     "checksum": "7d0411f16bfc00e565ecc75a7a76662a",
     "grade": true,
     "grade_id": "test-subset",
     "locked": true,
     "points": 5,
     "schema_version": 3,
     "solution": false,
     "task": false
    }
   },
   "outputs": [
    {
     "name": "stdout",
     "output_type": "stream",
     "text": [
      "✅ Great, you created a pandas dataframe above\n",
      "✅ Your DataFrame has the date as the index, good job!\n",
      "✅ Your DataFrame has the right number of days\n",
      "✅ Your streamflow DataFrame has the expected values in it, good job!\n",
      "➡ You received 5 out of 5 points for subsetting the streamflow data.\n"
     ]
    },
    {
     "data": {
      "text/plain": [
       "5"
      ]
     },
     "execution_count": 22,
     "metadata": {},
     "output_type": "execute_result"
    }
   ],
   "source": [
    "ans_subset = _\n",
    "subset_points = 0\n",
    "\n",
    "# Answer should be a DataFrame\n",
    "if isinstance(ans_subset, pd.DataFrame):\n",
    "    print(\"\\u2705 Great, you created a pandas dataframe above\")\n",
    "    subset_points += 1\n",
    "else:\n",
    "    print(\"\\u274C Oops - the cell above should have a DataFrame output.\")\n",
    "\n",
    "# Answer should have a Datetime index\n",
    "if type(ans_subset.index) == pd.DatetimeIndex:\n",
    "    print(\"\\u2705 Your DataFrame has the date as the index, \"\n",
    "          \"good job!\")\n",
    "    subset_points += 1\n",
    "else:\n",
    "    print(\"\\u274C Your DataFrame does not have the date \"\n",
    "          \"as the index.\")\n",
    "\n",
    "# Answer should include 89 days of data\n",
    "if len(ans_subset)==89:\n",
    "    print(\"\\u2705 Your DataFrame has the right number of days\")\n",
    "    subset_points += 2\n",
    "elif len(ans_subset) > 89:\n",
    "    print(\"\\u274C Your subset has too many days.\")\n",
    "else:\n",
    "    print(\"\\u274C Your subset has too few days.\")\n",
    "\n",
    "# The mean of the streamflow column should be 1951\n",
    "if round(ans_subset.iloc[:,2].mean(), 0)==1951:\n",
    "    print(\"\\u2705 Your streamflow DataFrame has the expected values \"\n",
    "          \"in it, good job!\")\n",
    "    subset_points += 1\n",
    "else:\n",
    "    print(\"\\u274C Your streamflow DataFrame does not have the \"\n",
    "          \"expected values in it.\")\n",
    "\n",
    "print(\"\\u27A1 You received {} out of 5 points for subsetting the \"\n",
    "      \"streamflow data.\".format(\n",
    "    subset_points))\n",
    "subset_points"
   ]
  },
  {
   "cell_type": "code",
   "execution_count": 23,
   "metadata": {},
   "outputs": [
    {
     "data": {
      "text/html": [
       "<div>\n",
       "<style scoped>\n",
       "    .dataframe tbody tr th:only-of-type {\n",
       "        vertical-align: middle;\n",
       "    }\n",
       "\n",
       "    .dataframe tbody tr th {\n",
       "        vertical-align: top;\n",
       "    }\n",
       "\n",
       "    .dataframe thead th {\n",
       "        text-align: right;\n",
       "    }\n",
       "</style>\n",
       "<table border=\"1\" class=\"dataframe\">\n",
       "  <thead>\n",
       "    <tr style=\"text-align: right;\">\n",
       "      <th></th>\n",
       "      <th>Agency</th>\n",
       "      <th>Site ID</th>\n",
       "      <th>Discharge</th>\n",
       "      <th>Code</th>\n",
       "    </tr>\n",
       "    <tr>\n",
       "      <th>Date</th>\n",
       "      <th></th>\n",
       "      <th></th>\n",
       "      <th></th>\n",
       "      <th></th>\n",
       "    </tr>\n",
       "  </thead>\n",
       "  <tbody>\n",
       "    <tr>\n",
       "      <th>1997-03-01</th>\n",
       "      <td>USGS</td>\n",
       "      <td>5082500</td>\n",
       "      <td>2290.0</td>\n",
       "      <td>A:e</td>\n",
       "    </tr>\n",
       "    <tr>\n",
       "      <th>1997-03-02</th>\n",
       "      <td>USGS</td>\n",
       "      <td>5082500</td>\n",
       "      <td>2280.0</td>\n",
       "      <td>A:e</td>\n",
       "    </tr>\n",
       "    <tr>\n",
       "      <th>1997-03-03</th>\n",
       "      <td>USGS</td>\n",
       "      <td>5082500</td>\n",
       "      <td>2350.0</td>\n",
       "      <td>A:e</td>\n",
       "    </tr>\n",
       "    <tr>\n",
       "      <th>1997-03-04</th>\n",
       "      <td>USGS</td>\n",
       "      <td>5082500</td>\n",
       "      <td>2400.0</td>\n",
       "      <td>A:e</td>\n",
       "    </tr>\n",
       "    <tr>\n",
       "      <th>1997-03-05</th>\n",
       "      <td>USGS</td>\n",
       "      <td>5082500</td>\n",
       "      <td>2370.0</td>\n",
       "      <td>A:e</td>\n",
       "    </tr>\n",
       "    <tr>\n",
       "      <th>...</th>\n",
       "      <td>...</td>\n",
       "      <td>...</td>\n",
       "      <td>...</td>\n",
       "      <td>...</td>\n",
       "    </tr>\n",
       "    <tr>\n",
       "      <th>1997-05-27</th>\n",
       "      <td>USGS</td>\n",
       "      <td>5082500</td>\n",
       "      <td>12700.0</td>\n",
       "      <td>A</td>\n",
       "    </tr>\n",
       "    <tr>\n",
       "      <th>1997-05-28</th>\n",
       "      <td>USGS</td>\n",
       "      <td>5082500</td>\n",
       "      <td>12400.0</td>\n",
       "      <td>A</td>\n",
       "    </tr>\n",
       "    <tr>\n",
       "      <th>1997-05-29</th>\n",
       "      <td>USGS</td>\n",
       "      <td>5082500</td>\n",
       "      <td>11900.0</td>\n",
       "      <td>A</td>\n",
       "    </tr>\n",
       "    <tr>\n",
       "      <th>1997-05-30</th>\n",
       "      <td>USGS</td>\n",
       "      <td>5082500</td>\n",
       "      <td>11300.0</td>\n",
       "      <td>A</td>\n",
       "    </tr>\n",
       "    <tr>\n",
       "      <th>1997-05-31</th>\n",
       "      <td>USGS</td>\n",
       "      <td>5082500</td>\n",
       "      <td>10600.0</td>\n",
       "      <td>A</td>\n",
       "    </tr>\n",
       "  </tbody>\n",
       "</table>\n",
       "<p>92 rows × 4 columns</p>\n",
       "</div>"
      ],
      "text/plain": [
       "           Agency  Site ID  Discharge Code\n",
       "Date                                      \n",
       "1997-03-01   USGS  5082500     2290.0  A:e\n",
       "1997-03-02   USGS  5082500     2280.0  A:e\n",
       "1997-03-03   USGS  5082500     2350.0  A:e\n",
       "1997-03-04   USGS  5082500     2400.0  A:e\n",
       "1997-03-05   USGS  5082500     2370.0  A:e\n",
       "...           ...      ...        ...  ...\n",
       "1997-05-27   USGS  5082500    12700.0    A\n",
       "1997-05-28   USGS  5082500    12400.0    A\n",
       "1997-05-29   USGS  5082500    11900.0    A\n",
       "1997-05-30   USGS  5082500    11300.0    A\n",
       "1997-05-31   USGS  5082500    10600.0    A\n",
       "\n",
       "[92 rows x 4 columns]"
      ]
     },
     "execution_count": 23,
     "metadata": {},
     "output_type": "execute_result"
    }
   ],
   "source": [
    "# grand forks flood dates for 1997\n",
    "gf_flood_dates = GFDataFrame['1997-03':'1997-05']\n",
    "\n",
    "gf_flood_dates"
   ]
  },
  {
   "attachments": {},
   "cell_type": "markdown",
   "metadata": {
    "deletable": false,
    "editable": false,
    "nbgrader": {
     "cell_type": "markdown",
     "checksum": "d50ee6e2b5f04629e5694389a34eef37",
     "grade": false,
     "grade_id": "task-plot-subset",
     "locked": true,
     "points": 7,
     "schema_version": 3,
     "solution": false,
     "task": true
    }
   },
   "source": [
    "&#128187; Now, in the cell below, plot your subsetted data. Don't forget to label your plot!\n"
   ]
  },
  {
   "cell_type": "code",
   "execution_count": 24,
   "metadata": {},
   "outputs": [
    {
     "data": {
      "image/png": "[encoded data removed]",
      "text/plain": [
       "<Figure size 800x500 with 1 Axes>"
      ]
     },
     "metadata": {},
     "output_type": "display_data"
    }
   ],
   "source": [
    "# plot data code that i used in the last notebook, but isn't working in this notebook?\n",
    "# look at the next cell for the actual code\n",
    "flood_dates.plot(y='Discharge',\n",
    "                    fontsize=10, legend=False, figsize=(8,5))\n",
    "\n",
    "# setting specific paramters for plot\n",
    "plt.title('Discharge of Cheyenne River (Feb. - April 2019)', fontsize=18)\n",
    "plt.xlabel('Date', fontsize=16);\n",
    "plt.ylabel('Discharge Rate', fontsize=16);\n",
    "\n"
   ]
  },
  {
   "cell_type": "code",
   "execution_count": 57,
   "metadata": {},
   "outputs": [
    {
     "data": {
      "image/png": "[encoded data removed]",
      "text/plain": [
       "<Figure size 800x500 with 1 Axes>"
      ]
     },
     "metadata": {},
     "output_type": "display_data"
    }
   ],
   "source": [
    "\n",
    "gf_flood_dates.plot(y='Discharge',\n",
    "                    fontsize=10, legend=False, figsize=(8,5))\n",
    "\n",
    "# setting specific paramters for plot\n",
    "plt.title('Red River Discharge at Grand Forks, ND (March - May 1997)', fontsize=14)\n",
    "plt.xlabel('Date', fontsize=14);\n",
    "plt.ylabel('Discharge Rate (ft3/sec)', fontsize=14);"
   ]
  },
  {
   "cell_type": "code",
   "execution_count": 47,
   "metadata": {
    "deletable": false,
    "nbgrader": {
     "cell_type": "code",
     "checksum": "4f66eefd035a0cad068455450501375b",
     "grade": false,
     "grade_id": "ans-plot-subset",
     "locked": false,
     "schema_version": 3,
     "solution": true,
     "task": false
    }
   },
   "outputs": [
    {
     "data": {
      "image/png": "[encoded data removed]",
      "text/plain": [
       "<Figure size 1000x500 with 1 Axes>"
      ]
     },
     "metadata": {},
     "output_type": "display_data"
    }
   ],
   "source": [
    "import matplotlib.dates as mdates\n",
    "from matplotlib.dates import DateFormatter\n",
    "\n",
    "fig, ax = plt.subplots(figsize=(10,5))\n",
    "ax.bar(flood_dates.index.values,\n",
    "       flood_dates['Discharge'],\n",
    "       color=\"purple\")\n",
    "\n",
    "ax.set(xlabel=\"Date\",\n",
    "       ylabel=\"Discharge\",\n",
    "       title=\"Cheyenne River Discharge (Feb - April 2019)\")\n",
    "\n",
    "date_form = DateFormatter(\"%m-%d\")\n",
    "ax.xaxis.set_major_formatter(date_form)\n",
    "\n",
    "# this is \n",
    "ax.xaxis.label.set_fontsize(16)\n",
    "ax.yaxis.label.set_fontsize(16)\n",
    "ax.title.set_fontsize(18)"
   ]
  },
  {
   "cell_type": "code",
   "execution_count": 55,
   "metadata": {},
   "outputs": [
    {
     "data": {
      "image/png": "[encoded data removed]",
      "text/plain": [
       "<Figure size 1000x500 with 1 Axes>"
      ]
     },
     "metadata": {},
     "output_type": "display_data"
    }
   ],
   "source": [
    "import matplotlib.dates as mdates\n",
    "from matplotlib.dates import DateFormatter\n",
    "\n",
    "fig, ax = plt.subplots(figsize=(10,5))\n",
    "ax.bar(gf_flood_dates.index.values,\n",
    "       gf_flood_dates['Discharge'],\n",
    "       color=\"purple\")\n",
    "\n",
    "ax.set(xlabel=\"Date\",\n",
    "       ylabel=\"Discharge (ft3/sec)\",\n",
    "       title=\"Red River Discharge at Grand Forks, ND (March - May 1997)\")\n",
    "\n",
    "date_form = DateFormatter(\"%m-%d\")\n",
    "ax.xaxis.set_major_formatter(date_form)\n",
    "\n",
    "# label sizing\n",
    "ax.xaxis.label.set_fontsize(14)\n",
    "ax.yaxis.label.set_fontsize(14)\n",
    "ax.title.set_fontsize(18)\n",
    "\n",
    "#ax.xaxis.set_major_locator(mdates.WeekdayLocator(interval=2))"
   ]
  },
  {
   "attachments": {},
   "cell_type": "markdown",
   "metadata": {
    "deletable": false,
    "editable": false,
    "nbgrader": {
     "cell_type": "markdown",
     "checksum": "76e580278bf5ba53523a189bf3793008",
     "grade": false,
     "grade_id": "task-daily-plot",
     "locked": true,
     "points": 3,
     "schema_version": 3,
     "solution": false,
     "task": true
    }
   },
   "source": [
    "You should be able to see the flood in your data going up above 12000 cfs at its peak. But how unusual is that really?\n",
    "\n",
    "Let's start by plotting ALL the data. Then we'll use a return period **statistic** to quantify how unusual it was.\n",
    "\n",
    "&#128187; In the cell below, plot the entire time series of streamflow data, without any parameters."
   ]
  },
  {
   "cell_type": "code",
   "execution_count": 28,
   "metadata": {
    "deletable": false,
    "nbgrader": {
     "cell_type": "code",
     "checksum": "203aa09940282bb04b9b273eeaa9079c",
     "grade": false,
     "grade_id": "ans-daily-plot",
     "locked": false,
     "schema_version": 3,
     "solution": true,
     "task": false
    }
   },
   "outputs": [
    {
     "data": {
      "text/plain": [
       "(0.0, 15000.0)"
      ]
     },
     "execution_count": 28,
     "metadata": {},
     "output_type": "execute_result"
    },
    {
     "data": {
      "image/png": "[encoded data removed]",
      "text/plain": [
       "<Figure size 1000x500 with 1 Axes>"
      ]
     },
     "metadata": {},
     "output_type": "display_data"
    }
   ],
   "source": [
    "import matplotlib.dates as mdates\n",
    "from matplotlib.dates import DateFormatter\n",
    "\n",
    "fig, ax = plt.subplots(figsize=(10,5))\n",
    "ax.bar(DataFrame.index.values,\n",
    "       DataFrame['Discharge'],\n",
    "       color=\"purple\")\n",
    "\n",
    "ax.set(xlabel=\"Date\",\n",
    "       ylabel=\"Discharge\",\n",
    "       title=\"Cheyenne River Discharge 1914-2023\")\n",
    "\n",
    "plt.ylim(0,15000)"
   ]
  },
  {
   "attachments": {},
   "cell_type": "markdown",
   "metadata": {
    "deletable": false,
    "editable": false,
    "nbgrader": {
     "cell_type": "markdown",
     "checksum": "ef5055e03894e124e66244fd0583ee91",
     "grade": false,
     "grade_id": "instr-resample",
     "locked": true,
     "schema_version": 3,
     "solution": false,
     "task": false
    }
   },
   "source": [
    "This plot looks a little fuzzy because it is trying to fit too many data points in a small area. One way to improve this is by **resampling** the data to **annual maxima**. That way we still get the same peak streamflows, but the computer will be able to plot all the values without overlapping.\n",
    "\n",
    "> **Resampling** means changing the time interval between time series observations - in this case from daily to annual.\n",
    "\n",
    "&#128214; Read about [different ways to resample time series data in your textbook](https://www.earthdatascience.org/courses/use-data-open-source-python/use-time-series-data-in-python/date-time-types-in-pandas-python/resample-time-series-data-pandas-python/)\n",
    "\n",
    "&#128214; You can use a [list of **offset aliases**](https://pandas.pydata.org/docs/dev/user_guide/timeseries.html#timeseries-offset-aliases) to look up how to specify the final dates. This list is pretty hard to find - you might want to bookmark it.\n",
    "\n",
    "&#128187; In the cell below, select the streamflow column, and then resample it to get an annual maximum.\n",
    "\n",
    "> Watch out for this gotcha - the test below is looking for a pandas `DataFrame`, but when we select a single column we get a pandas `Series` (a `DataFrame` is a collection of `Series`.) To get a `DataFrame` with a single column, use the syntax below with **two** square brackets:\n",
    "\n",
    "```python\n",
    "dataframe[['column_name']]\n",
    "```"
   ]
  },
  {
   "cell_type": "code",
   "execution_count": 29,
   "metadata": {
    "deletable": false,
    "nbgrader": {
     "cell_type": "code",
     "checksum": "c529e9bc45291695ef50b098237de18f",
     "grade": false,
     "grade_id": "ans-resample",
     "locked": false,
     "schema_version": 3,
     "solution": true,
     "task": false
    }
   },
   "outputs": [
    {
     "data": {
      "text/html": [
       "<div>\n",
       "<style scoped>\n",
       "    .dataframe tbody tr th:only-of-type {\n",
       "        vertical-align: middle;\n",
       "    }\n",
       "\n",
       "    .dataframe tbody tr th {\n",
       "        vertical-align: top;\n",
       "    }\n",
       "\n",
       "    .dataframe thead th {\n",
       "        text-align: right;\n",
       "    }\n",
       "</style>\n",
       "<table border=\"1\" class=\"dataframe\">\n",
       "  <thead>\n",
       "    <tr style=\"text-align: right;\">\n",
       "      <th></th>\n",
       "      <th>Discharge</th>\n",
       "    </tr>\n",
       "    <tr>\n",
       "      <th>Date</th>\n",
       "      <th></th>\n",
       "    </tr>\n",
       "  </thead>\n",
       "  <tbody>\n",
       "    <tr>\n",
       "      <th>1914-01-01</th>\n",
       "      <td>1200.0</td>\n",
       "    </tr>\n",
       "    <tr>\n",
       "      <th>1915-01-01</th>\n",
       "      <td>31700.0</td>\n",
       "    </tr>\n",
       "    <tr>\n",
       "      <th>1916-01-01</th>\n",
       "      <td>NaN</td>\n",
       "    </tr>\n",
       "    <tr>\n",
       "      <th>1917-01-01</th>\n",
       "      <td>NaN</td>\n",
       "    </tr>\n",
       "    <tr>\n",
       "      <th>1918-01-01</th>\n",
       "      <td>NaN</td>\n",
       "    </tr>\n",
       "    <tr>\n",
       "      <th>...</th>\n",
       "      <td>...</td>\n",
       "    </tr>\n",
       "    <tr>\n",
       "      <th>2019-01-01</th>\n",
       "      <td>18400.0</td>\n",
       "    </tr>\n",
       "    <tr>\n",
       "      <th>2020-01-01</th>\n",
       "      <td>1800.0</td>\n",
       "    </tr>\n",
       "    <tr>\n",
       "      <th>2021-01-01</th>\n",
       "      <td>5170.0</td>\n",
       "    </tr>\n",
       "    <tr>\n",
       "      <th>2022-01-01</th>\n",
       "      <td>1540.0</td>\n",
       "    </tr>\n",
       "    <tr>\n",
       "      <th>2023-01-01</th>\n",
       "      <td>4020.0</td>\n",
       "    </tr>\n",
       "  </tbody>\n",
       "</table>\n",
       "<p>110 rows × 1 columns</p>\n",
       "</div>"
      ],
      "text/plain": [
       "            Discharge\n",
       "Date                 \n",
       "1914-01-01     1200.0\n",
       "1915-01-01    31700.0\n",
       "1916-01-01        NaN\n",
       "1917-01-01        NaN\n",
       "1918-01-01        NaN\n",
       "...               ...\n",
       "2019-01-01    18400.0\n",
       "2020-01-01     1800.0\n",
       "2021-01-01     5170.0\n",
       "2022-01-01     1540.0\n",
       "2023-01-01     4020.0\n",
       "\n",
       "[110 rows x 1 columns]"
      ]
     },
     "execution_count": 29,
     "metadata": {},
     "output_type": "execute_result"
    }
   ],
   "source": [
    "cheyenne_river_annual = DataFrame[['Discharge']].resample('YS').max()\n",
    "cheyenne_river_annual\n",
    "\n"
   ]
  },
  {
   "cell_type": "code",
   "execution_count": 30,
   "metadata": {
    "deletable": false,
    "editable": false,
    "nbgrader": {
     "cell_type": "code",
     "checksum": "ce8fba22fcc60edec633d3c03d0175ef",
     "grade": true,
     "grade_id": "test-resample",
     "locked": true,
     "points": 5,
     "schema_version": 3,
     "solution": false,
     "task": false
    }
   },
   "outputs": [
    {
     "name": "stdout",
     "output_type": "stream",
     "text": [
      "✅ Great, you created a pandas DataFrame above\n",
      "✅ Your DataFrame has the date as the index, good job!\n",
      "✅ Your DataFrame has the right number of years\n",
      "❌ Your annual max streamflow DataFrame does not have the expected values in it.\n",
      "➡ You received 4 out of 5 points for subsetting the streamflow data.\n"
     ]
    },
    {
     "name": "stderr",
     "output_type": "stream",
     "text": [
      "/tmp/ipykernel_2601/2745968858.py:28: FutureWarning: Calling int on a single element Series is deprecated and will raise a TypeError in the future. Use int(ser.iloc[0]) instead\n",
      "  if round(int(ans_resample.mean()), 0)==7888:\n"
     ]
    },
    {
     "data": {
      "text/plain": [
       "4"
      ]
     },
     "execution_count": 30,
     "metadata": {},
     "output_type": "execute_result"
    }
   ],
   "source": [
    "ans_resample = _\n",
    "resample_points = 0\n",
    "\n",
    "# Answer should be a DataFrame\n",
    "if isinstance(ans_resample, pd.DataFrame):\n",
    "    print(\"\\u2705 Great, you created a pandas DataFrame above\")\n",
    "    resample_points += 1\n",
    "else:\n",
    "    print(\"\\u274C Oops - the cell above should have a DataFrame output.\")\n",
    "\n",
    "# Answer should have a Datetime index\n",
    "if type(ans_resample.index) == pd.DatetimeIndex:\n",
    "    print(\"\\u2705 Your DataFrame has the date as the index, \"\n",
    "          \"good job!\")\n",
    "    resample_points += 1\n",
    "else:\n",
    "    print(\"\\u274C Your DataFrame does not have the date \"\n",
    "          \"as the index.\")\n",
    "\n",
    "# Answer should include 89 days of data\n",
    "if len(ans_resample)>=110:\n",
    "    print(\"\\u2705 Your DataFrame has the right number of years\")\n",
    "    resample_points += 2\n",
    "else:\n",
    "    print(\"\\u274C Oops - did you resample your DataFrame to annual?\")\n",
    "\n",
    "# The mean of the streamflow Series should be 7888\n",
    "if round(int(ans_resample.mean()), 0)==7888:\n",
    "    print(\"\\u2705 Your annual max streamflow DataFrame has the expected \"\n",
    "          \"values in it, good job!\")\n",
    "    resample_points += 1\n",
    "else:\n",
    "    print(\"\\u274C Your annual max streamflow DataFrame does not have the \"\n",
    "          \"expected values in it.\")\n",
    "\n",
    "print(\"\\u27A1 You received {} out of 5 points for subsetting the \"\n",
    "      \"streamflow data.\".format(\n",
    "    resample_points))\n",
    "resample_points"
   ]
  },
  {
   "attachments": {},
   "cell_type": "markdown",
   "metadata": {
    "deletable": false,
    "editable": false,
    "nbgrader": {
     "cell_type": "markdown",
     "checksum": "6efa60724edf08e8e7f71ebde2942e11",
     "grade": false,
     "grade_id": "instr-plot-annual",
     "locked": true,
     "points": 7,
     "schema_version": 3,
     "solution": false,
     "task": true
    }
   },
   "source": [
    "&#128187; Plot your resampled data."
   ]
  },
  {
   "cell_type": "code",
   "execution_count": 31,
   "metadata": {
    "deletable": false,
    "nbgrader": {
     "cell_type": "code",
     "checksum": "fecf4ac619a6a3634f1250450ed77458",
     "grade": false,
     "grade_id": "dicharge-monthly-max",
     "locked": false,
     "schema_version": 3,
     "solution": true,
     "task": false
    }
   },
   "outputs": [
    {
     "data": {
      "text/plain": [
       "[Text(0.5, 0, 'Date'),\n",
       " Text(0, 0.5, 'Discharge'),\n",
       " Text(0.5, 1.0, 'Cheyenne River ')]"
      ]
     },
     "execution_count": 31,
     "metadata": {},
     "output_type": "execute_result"
    },
    {
     "data": {
      "image/png": "[encoded data removed]",
      "text/plain": [
       "<Figure size 1000x500 with 1 Axes>"
      ]
     },
     "metadata": {},
     "output_type": "display_data"
    }
   ],
   "source": [
    "import matplotlib.dates as mdates\n",
    "from matplotlib.dates import DateFormatter\n",
    "\n",
    "fig, ax = plt.subplots(figsize=(10,5))\n",
    "ax.bar(cheyenne_river_annual.index.year.values,\n",
    "       cheyenne_river_annual['Discharge'],\n",
    "       color=\"purple\")\n",
    "\n",
    "ax.set(xlabel=\"Date\",\n",
    "       ylabel=\"Discharge\",\n",
    "       title=\"Cheyenne River \"\n",
    ")\n"
   ]
  },
  {
   "attachments": {},
   "cell_type": "markdown",
   "metadata": {
    "deletable": false,
    "editable": false,
    "nbgrader": {
     "cell_type": "markdown",
     "checksum": "e25a268a2f33f6e83d0097c74c7f15ef",
     "grade": false,
     "grade_id": "task-describe",
     "locked": true,
     "points": 5,
     "schema_version": 3,
     "solution": false,
     "task": true
    }
   },
   "source": [
    "In the cell below, write a headline and 2-3 sentence description of your plot. What do you estimate the return period was for the flood in 2019?"
   ]
  },
  {
   "attachments": {},
   "cell_type": "markdown",
   "metadata": {},
   "source": []
  },
  {
   "attachments": {},
   "cell_type": "markdown",
   "metadata": {
    "deletable": false,
    "editable": false,
    "nbgrader": {
     "cell_type": "markdown",
     "checksum": "b9100cd4217f18f4016dcd4e322ffa5d",
     "grade": false,
     "grade_id": "task-return",
     "locked": true,
     "points": 5,
     "schema_version": 3,
     "solution": false,
     "task": true
    }
   },
   "source": [
    "&#127798; In the cell below, calculate the exceedence probability and return period for each year of the **annual** data, and add them as columns to your DataFrame.\n",
    "\n",
    "> HINT: pandas columns have a `rank` method, which you can use. BUT -- you will need to use the `ascending=False` parameter, since higher rank should be lower exceedence probability "
   ]
  },
  {
   "cell_type": "code",
   "execution_count": 32,
   "metadata": {
    "deletable": false,
    "nbgrader": {
     "cell_type": "code",
     "checksum": "7d8cda4b09e90a30e7db8845f304752a",
     "grade": false,
     "grade_id": "ans-return",
     "locked": false,
     "schema_version": 3,
     "solution": true,
     "task": false
    }
   },
   "outputs": [
    {
     "ename": "NotImplementedError",
     "evalue": "",
     "output_type": "error",
     "traceback": [
      "\u001b[0;31m---------------------------------------------------------------------------\u001b[0m",
      "\u001b[0;31mNotImplementedError\u001b[0m                       Traceback (most recent call last)",
      "Cell \u001b[0;32mIn[32], line 2\u001b[0m\n\u001b[1;32m      1\u001b[0m \u001b[39m# YOUR CODE HERE\u001b[39;00m\n\u001b[0;32m----> 2\u001b[0m \u001b[39mraise\u001b[39;00m \u001b[39mNotImplementedError\u001b[39;00m()\n",
      "\u001b[0;31mNotImplementedError\u001b[0m: "
     ]
    }
   ],
   "source": [
    "# YOUR CODE HERE\n",
    "raise NotImplementedError()"
   ]
  },
  {
   "cell_type": "code",
   "execution_count": null,
   "metadata": {
    "deletable": false,
    "editable": false,
    "nbgrader": {
     "cell_type": "code",
     "checksum": "52fec71c5fc9dd0af7070316421867a4",
     "grade": true,
     "grade_id": "tests-return",
     "locked": true,
     "points": 0,
     "schema_version": 3,
     "solution": false,
     "task": false
    }
   },
   "outputs": [],
   "source": [
    "ans_return = _\n",
    "return_points = 0\n",
    "\n",
    "# Answer should be a DataFrame\n",
    "if isinstance(ans_return, pd.DataFrame):\n",
    "    print(\"\\u2705 Great, you created a pandas dataframe above\")\n",
    "    return_points += 1\n",
    "else:\n",
    "    print(\"\\u274C Oops - the cell above should have a DataFrame output.\")\n",
    "\n",
    "# Answer should have a Datetime index\n",
    "if type(ans_return.index) == pd.DatetimeIndex:\n",
    "    print(\"\\u2705 Your DataFrame has the date as the index, \"\n",
    "          \"good job!\")\n",
    "    return_points += 1\n",
    "else:\n",
    "    print(\"\\u274C Your DataFrame does not have the date \"\n",
    "          \"as the index.\")\n",
    "\n",
    "# Answer should include 110 years of data\n",
    "if len(ans_return)==110:\n",
    "    print(\"\\u2705 Your DataFrame has the right number of days\")\n",
    "    return_points += 2\n",
    "elif len(ans_return) > 110:\n",
    "    print(\"\\u274C Your DataFrame has too many years.\")\n",
    "else:\n",
    "    print(\"\\u274C Your DataFrame has too few years.\")\n",
    "\n",
    "# The value \"hash\" should be 20549.0\n",
    "if round(ans_return.mean().product(), 0)==20549.0:\n",
    "    print(\"\\u2705 Your streamflow DataFrame has the expected values \"\n",
    "          \"in it, good job!\")\n",
    "    return_points += 1\n",
    "else:\n",
    "    print(\"\\u274C Your streamflow DataFrame does not have the \"\n",
    "          \"expected values in it.\")\n",
    "\n",
    "print(\"\\u27A1 You received {} out of 5 extra credit points for calculating the \"\n",
    "      \"return period.\".format(return_points))\n",
    "return_points"
   ]
  },
  {
   "attachments": {},
   "cell_type": "markdown",
   "metadata": {
    "deletable": false,
    "editable": false,
    "nbgrader": {
     "cell_type": "markdown",
     "checksum": "aef8b057f821b8e8e3dab835b6e98a81",
     "grade": false,
     "grade_id": "pep8-grading",
     "locked": true,
     "points": 6,
     "schema_version": 3,
     "solution": false,
     "task": true
    }
   },
   "source": [
    "## Pep 8, and Does the Notebook Run?\n",
    "In this cell, we will give you points for the following\n",
    "\n",
    "1. PEP 8 is followed throughout the notebook (3 points)\n",
    "3. The notebook runs from top to bottom without any editing (it is reproducible) (3 points)"
   ]
  }
 ],
 "metadata": {
  "kernelspec": {
   "display_name": "Python 3 (ipykernel)",
   "language": "python",
   "name": "python3"
  },
  "language_info": {
   "codemirror_mode": {
    "name": "ipython",
    "version": 3
   },
   "file_extension": ".py",
   "mimetype": "text/x-python",
   "name": "python",
   "nbconvert_exporter": "python",
   "pygments_lexer": "ipython3",
   "version": "3.10.10"
  },
  "toc": {
   "base_numbering": 1,
   "nav_menu": {},
   "number_sections": true,
   "sideBar": true,
   "skip_h1_title": false,
   "title_cell": "Table of Contents",
   "title_sidebar": "Contents",
   "toc_cell": false,
   "toc_position": {
    "height": "calc(100% - 180px)",
    "left": "10px",
    "top": "150px",
    "width": "248.2px"
   },
   "toc_section_display": true,
   "toc_window_display": true
  },
  "varInspector": {
   "cols": {
    "lenName": 16,
    "lenType": 16,
    "lenVar": 40
   },
   "kernels_config": {
    "python": {
     "delete_cmd_postfix": "",
     "delete_cmd_prefix": "del ",
     "library": "var_list.py",
     "varRefreshCmd": "print(var_dic_list())"
    },
    "r": {
     "delete_cmd_postfix": ") ",
     "delete_cmd_prefix": "rm(",
     "library": "var_list.r",
     "varRefreshCmd": "cat(var_dic_list()) "
    }
   },
   "types_to_exclude": [
    "module",
    "function",
    "builtin_function_or_method",
    "instance",
    "_Feature"
   ],
   "window_display": false
  }
 },
 "nbformat": 4,
 "nbformat_minor": 2
}
